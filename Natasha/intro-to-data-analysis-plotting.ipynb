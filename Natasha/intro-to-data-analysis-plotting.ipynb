{
 "cells": [
  {
   "cell_type": "markdown",
   "metadata": {},
   "source": [
    "# Introduction to Pandas and Matplotlib\n",
    "\n",
    "This tutorial is...\n",
    "* introductory and geared towards people new to python, but familiar with STATA, MATLAB, R, etc.\n",
    "* interactive with simple exercises along the way\n",
    "\n",
    "## Background\n",
    "\n",
    "[**Pandas**](http://pandas.pydata.org/pandas-docs/stable/) and [**Matplotlib**](https://matplotlib.org/contents.html) are two of the most popular python packages for data analysis and visualization\n",
    "\n",
    "They have both gained substantial popularity in recent years, partly due to the rise of fields such as data science and machine learning"
   ]
  },
  {
   "cell_type": "code",
   "execution_count": 1,
   "metadata": {},
   "outputs": [
    {
     "data": {
      "image/png": "./popularity.jpg",
      "text/plain": [
       "<IPython.core.display.Image object>"
      ]
     },
     "execution_count": 1,
     "metadata": {},
     "output_type": "execute_result"
    }
   ],
   "source": [
    "from IPython.display import Image\n",
    "Image('./popularity.jpg')"
   ]
  },
  {
   "cell_type": "markdown",
   "metadata": {
    "slideshow": {
     "slide_type": "slide"
    }
   },
   "source": [
    "Both packages are extensive and flexible in their nature\n",
    "* Sometimes difficult to find what you want to do (although it is almost always possible)\n",
    "* The solution is not always the most elegant\n",
    "\n",
    "Both packages are well-supported and actively developed"
   ]
  },
  {
   "cell_type": "markdown",
   "metadata": {},
   "source": [
    "## What is pandas?\n",
    "\n",
    "Pandas provides fundamental structures for working with data (`Series`, `DataFrames`)\n",
    "\n",
    "Data structures have methods for manipulating data eg. indexing, sorting, grouping, filling in missing data\n",
    "\n",
    "Pandas does not provide modeling tools eg. regression, prediction\n",
    "* These tools are found in packages such as `scikit-learn` and `statsmodels`, which are built on top of pandas"
   ]
  },
  {
   "cell_type": "code",
   "execution_count": 2,
   "metadata": {
    "collapsed": true
   },
   "outputs": [],
   "source": [
    "# Import the package\n",
    "\n",
    "import pandas as pd"
   ]
  },
  {
   "cell_type": "markdown",
   "metadata": {},
   "source": [
    "## DataFrames\n",
    "\n",
    "A `DataFrame` combines multiple 'columns' of data into a two-dimensional object, similar to a spreadsheet"
   ]
  },
  {
   "cell_type": "code",
   "execution_count": 3,
   "metadata": {},
   "outputs": [
    {
     "data": {
      "image/png": "./dataframe.jpg",
      "text/plain": [
       "<IPython.core.display.Image object>"
      ]
     },
     "execution_count": 3,
     "metadata": {},
     "output_type": "execute_result"
    }
   ],
   "source": [
    "Image('./dataframe.jpg')"
   ]
  },
  {
   "cell_type": "markdown",
   "metadata": {},
   "source": [
    "We will create a `DataFrame` by reading in a Stata file and assigning it to the variable name `df`"
   ]
  },
  {
   "cell_type": "markdown",
   "metadata": {},
   "source": [
    "### Info on the data set\n",
    "\n",
    "* The data come from ['Assessing the Rate of Replication in Economics'](https://www.aeaweb.org/articles?id=10.1257/aer.p20171119), *American Economics Review: Papers & Proceedings*, 2017\n",
    "* The dataframe `volume` contains 70 empirical papers from AER's 100th volume\n",
    "* `volWoS`: number of Web of Science citations\n",
    "* `volTop200Econ`: number of Top 200 economics journal citations\n",
    "* `volGScites`: number of Google Scholar citations"
   ]
  },
  {
   "cell_type": "code",
   "execution_count": 4,
   "metadata": {
    "scrolled": true
   },
   "outputs": [
    {
     "data": {
      "text/html": [
       "<div>\n",
       "<style>\n",
       "    .dataframe thead tr:only-child th {\n",
       "        text-align: right;\n",
       "    }\n",
       "\n",
       "    .dataframe thead th {\n",
       "        text-align: left;\n",
       "    }\n",
       "\n",
       "    .dataframe tbody tr th {\n",
       "        vertical-align: top;\n",
       "    }\n",
       "</style>\n",
       "<table border=\"1\" class=\"dataframe\">\n",
       "  <thead>\n",
       "    <tr style=\"text-align: right;\">\n",
       "      <th></th>\n",
       "      <th>volID</th>\n",
       "      <th>volTitle</th>\n",
       "      <th>volCoder</th>\n",
       "      <th>volWoS</th>\n",
       "      <th>volTop200Econ</th>\n",
       "      <th>volGScites</th>\n",
       "      <th>volField</th>\n",
       "    </tr>\n",
       "  </thead>\n",
       "  <tbody>\n",
       "    <tr>\n",
       "      <th>0</th>\n",
       "      <td>2</td>\n",
       "      <td>Learning about a New Technology: Pineapple in ...</td>\n",
       "      <td>3.0</td>\n",
       "      <td>176</td>\n",
       "      <td>108.0</td>\n",
       "      <td>1246</td>\n",
       "      <td>Development</td>\n",
       "    </tr>\n",
       "    <tr>\n",
       "      <th>1</th>\n",
       "      <td>3</td>\n",
       "      <td>Multiple-Product Firms and Product Switching</td>\n",
       "      <td>5.0</td>\n",
       "      <td>111</td>\n",
       "      <td>74.0</td>\n",
       "      <td>764</td>\n",
       "      <td>Labor/IO</td>\n",
       "    </tr>\n",
       "    <tr>\n",
       "      <th>2</th>\n",
       "      <td>4</td>\n",
       "      <td>Momma's Got the Pill\": How Anthony Comstock an...</td>\n",
       "      <td>5.0</td>\n",
       "      <td>23</td>\n",
       "      <td>15.0</td>\n",
       "      <td>98</td>\n",
       "      <td>Labor/IO</td>\n",
       "    </tr>\n",
       "    <tr>\n",
       "      <th>3</th>\n",
       "      <td>5</td>\n",
       "      <td>Matching and Sorting in Online Dating</td>\n",
       "      <td>1.0</td>\n",
       "      <td>75</td>\n",
       "      <td>23.0</td>\n",
       "      <td>326</td>\n",
       "      <td>Labor/IO</td>\n",
       "    </tr>\n",
       "    <tr>\n",
       "      <th>4</th>\n",
       "      <td>6</td>\n",
       "      <td>Entry, Exit, and Investment-Specific Technical...</td>\n",
       "      <td>2.0</td>\n",
       "      <td>9</td>\n",
       "      <td>9.0</td>\n",
       "      <td>38</td>\n",
       "      <td>Macro/Int/Trade</td>\n",
       "    </tr>\n",
       "  </tbody>\n",
       "</table>\n",
       "</div>"
      ],
      "text/plain": [
       "   volID                                           volTitle  volCoder  volWoS  \\\n",
       "0      2  Learning about a New Technology: Pineapple in ...       3.0     176   \n",
       "1      3       Multiple-Product Firms and Product Switching       5.0     111   \n",
       "2      4  Momma's Got the Pill\": How Anthony Comstock an...       5.0      23   \n",
       "3      5              Matching and Sorting in Online Dating       1.0      75   \n",
       "4      6  Entry, Exit, and Investment-Specific Technical...       2.0       9   \n",
       "\n",
       "   volTop200Econ  volGScites         volField  \n",
       "0          108.0        1246      Development  \n",
       "1           74.0         764         Labor/IO  \n",
       "2           15.0          98         Labor/IO  \n",
       "3           23.0         326         Labor/IO  \n",
       "4            9.0          38  Macro/Int/Trade  "
      ]
     },
     "execution_count": 4,
     "metadata": {},
     "output_type": "execute_result"
    }
   ],
   "source": [
    "volume = pd.read_stata('./data/VolumePaperData.dta')\n",
    "volume.head()"
   ]
  },
  {
   "cell_type": "code",
   "execution_count": 5,
   "metadata": {},
   "outputs": [
    {
     "data": {
      "text/plain": [
       "pandas.core.frame.DataFrame"
      ]
     },
     "execution_count": 5,
     "metadata": {},
     "output_type": "execute_result"
    }
   ],
   "source": [
    "type(volume)"
   ]
  },
  {
   "cell_type": "code",
   "execution_count": 6,
   "metadata": {},
   "outputs": [
    {
     "name": "stdout",
     "output_type": "stream",
     "text": [
      "<class 'pandas.core.frame.DataFrame'>\n",
      "Int64Index: 70 entries, 0 to 69\n",
      "Data columns (total 7 columns):\n",
      "volID            70 non-null int16\n",
      "volTitle         70 non-null object\n",
      "volCoder         70 non-null float32\n",
      "volWoS           70 non-null int32\n",
      "volTop200Econ    70 non-null float64\n",
      "volGScites       70 non-null int16\n",
      "volField         70 non-null category\n",
      "dtypes: category(1), float32(1), float64(1), int16(2), int32(1), object(1)\n",
      "memory usage: 2.7+ KB\n"
     ]
    }
   ],
   "source": [
    "volume.info()"
   ]
  },
  {
   "cell_type": "markdown",
   "metadata": {},
   "source": [
    "By default, pandas will recognize column headers from the stata file"
   ]
  },
  {
   "cell_type": "code",
   "execution_count": 7,
   "metadata": {},
   "outputs": [
    {
     "data": {
      "text/plain": [
       "Index(['volID', 'volTitle', 'volCoder', 'volWoS', 'volTop200Econ',\n",
       "       'volGScites', 'volField'],\n",
       "      dtype='object')"
      ]
     },
     "execution_count": 7,
     "metadata": {},
     "output_type": "execute_result"
    }
   ],
   "source": [
    "volume.columns"
   ]
  },
  {
   "cell_type": "markdown",
   "metadata": {},
   "source": [
    "We can access individual columns of data, returning a `Series`"
   ]
  },
  {
   "cell_type": "code",
   "execution_count": 8,
   "metadata": {},
   "outputs": [
    {
     "data": {
      "text/plain": [
       "0    176\n",
       "1    111\n",
       "2     23\n",
       "3     75\n",
       "4      9\n",
       "Name: volWoS, dtype: int32"
      ]
     },
     "execution_count": 8,
     "metadata": {},
     "output_type": "execute_result"
    }
   ],
   "source": [
    "volume['volWoS'].head()"
   ]
  },
  {
   "cell_type": "code",
   "execution_count": 9,
   "metadata": {},
   "outputs": [
    {
     "data": {
      "text/html": [
       "<div>\n",
       "<style>\n",
       "    .dataframe thead tr:only-child th {\n",
       "        text-align: right;\n",
       "    }\n",
       "\n",
       "    .dataframe thead th {\n",
       "        text-align: left;\n",
       "    }\n",
       "\n",
       "    .dataframe tbody tr th {\n",
       "        vertical-align: top;\n",
       "    }\n",
       "</style>\n",
       "<table border=\"1\" class=\"dataframe\">\n",
       "  <thead>\n",
       "    <tr style=\"text-align: right;\">\n",
       "      <th></th>\n",
       "      <th>volTitle</th>\n",
       "      <th>volWoS</th>\n",
       "    </tr>\n",
       "  </thead>\n",
       "  <tbody>\n",
       "    <tr>\n",
       "      <th>0</th>\n",
       "      <td>Learning about a New Technology: Pineapple in ...</td>\n",
       "      <td>176</td>\n",
       "    </tr>\n",
       "    <tr>\n",
       "      <th>1</th>\n",
       "      <td>Multiple-Product Firms and Product Switching</td>\n",
       "      <td>111</td>\n",
       "    </tr>\n",
       "    <tr>\n",
       "      <th>2</th>\n",
       "      <td>Momma's Got the Pill\": How Anthony Comstock an...</td>\n",
       "      <td>23</td>\n",
       "    </tr>\n",
       "    <tr>\n",
       "      <th>3</th>\n",
       "      <td>Matching and Sorting in Online Dating</td>\n",
       "      <td>75</td>\n",
       "    </tr>\n",
       "    <tr>\n",
       "      <th>4</th>\n",
       "      <td>Entry, Exit, and Investment-Specific Technical...</td>\n",
       "      <td>9</td>\n",
       "    </tr>\n",
       "  </tbody>\n",
       "</table>\n",
       "</div>"
      ],
      "text/plain": [
       "                                            volTitle  volWoS\n",
       "0  Learning about a New Technology: Pineapple in ...     176\n",
       "1       Multiple-Product Firms and Product Switching     111\n",
       "2  Momma's Got the Pill\": How Anthony Comstock an...      23\n",
       "3              Matching and Sorting in Online Dating      75\n",
       "4  Entry, Exit, and Investment-Specific Technical...       9"
      ]
     },
     "execution_count": 9,
     "metadata": {},
     "output_type": "execute_result"
    }
   ],
   "source": [
    "volume[['volTitle', 'volWoS']].head()"
   ]
  },
  {
   "cell_type": "markdown",
   "metadata": {},
   "source": [
    "We can add a new column like so"
   ]
  },
  {
   "cell_type": "code",
   "execution_count": 10,
   "metadata": {},
   "outputs": [
    {
     "data": {
      "text/html": [
       "<div>\n",
       "<style>\n",
       "    .dataframe thead tr:only-child th {\n",
       "        text-align: right;\n",
       "    }\n",
       "\n",
       "    .dataframe thead th {\n",
       "        text-align: left;\n",
       "    }\n",
       "\n",
       "    .dataframe tbody tr th {\n",
       "        vertical-align: top;\n",
       "    }\n",
       "</style>\n",
       "<table border=\"1\" class=\"dataframe\">\n",
       "  <thead>\n",
       "    <tr style=\"text-align: right;\">\n",
       "      <th></th>\n",
       "      <th>volID</th>\n",
       "      <th>volTitle</th>\n",
       "      <th>volCoder</th>\n",
       "      <th>volWoS</th>\n",
       "      <th>volTop200Econ</th>\n",
       "      <th>volGScites</th>\n",
       "      <th>volField</th>\n",
       "      <th>totalCites</th>\n",
       "    </tr>\n",
       "  </thead>\n",
       "  <tbody>\n",
       "    <tr>\n",
       "      <th>0</th>\n",
       "      <td>2</td>\n",
       "      <td>Learning about a New Technology: Pineapple in ...</td>\n",
       "      <td>3.0</td>\n",
       "      <td>176</td>\n",
       "      <td>108.0</td>\n",
       "      <td>1246</td>\n",
       "      <td>Development</td>\n",
       "      <td>1530.0</td>\n",
       "    </tr>\n",
       "    <tr>\n",
       "      <th>1</th>\n",
       "      <td>3</td>\n",
       "      <td>Multiple-Product Firms and Product Switching</td>\n",
       "      <td>5.0</td>\n",
       "      <td>111</td>\n",
       "      <td>74.0</td>\n",
       "      <td>764</td>\n",
       "      <td>Labor/IO</td>\n",
       "      <td>949.0</td>\n",
       "    </tr>\n",
       "    <tr>\n",
       "      <th>2</th>\n",
       "      <td>4</td>\n",
       "      <td>Momma's Got the Pill\": How Anthony Comstock an...</td>\n",
       "      <td>5.0</td>\n",
       "      <td>23</td>\n",
       "      <td>15.0</td>\n",
       "      <td>98</td>\n",
       "      <td>Labor/IO</td>\n",
       "      <td>136.0</td>\n",
       "    </tr>\n",
       "    <tr>\n",
       "      <th>3</th>\n",
       "      <td>5</td>\n",
       "      <td>Matching and Sorting in Online Dating</td>\n",
       "      <td>1.0</td>\n",
       "      <td>75</td>\n",
       "      <td>23.0</td>\n",
       "      <td>326</td>\n",
       "      <td>Labor/IO</td>\n",
       "      <td>424.0</td>\n",
       "    </tr>\n",
       "    <tr>\n",
       "      <th>4</th>\n",
       "      <td>6</td>\n",
       "      <td>Entry, Exit, and Investment-Specific Technical...</td>\n",
       "      <td>2.0</td>\n",
       "      <td>9</td>\n",
       "      <td>9.0</td>\n",
       "      <td>38</td>\n",
       "      <td>Macro/Int/Trade</td>\n",
       "      <td>56.0</td>\n",
       "    </tr>\n",
       "  </tbody>\n",
       "</table>\n",
       "</div>"
      ],
      "text/plain": [
       "   volID                                           volTitle  volCoder  volWoS  \\\n",
       "0      2  Learning about a New Technology: Pineapple in ...       3.0     176   \n",
       "1      3       Multiple-Product Firms and Product Switching       5.0     111   \n",
       "2      4  Momma's Got the Pill\": How Anthony Comstock an...       5.0      23   \n",
       "3      5              Matching and Sorting in Online Dating       1.0      75   \n",
       "4      6  Entry, Exit, and Investment-Specific Technical...       2.0       9   \n",
       "\n",
       "   volTop200Econ  volGScites         volField  totalCites  \n",
       "0          108.0        1246      Development      1530.0  \n",
       "1           74.0         764         Labor/IO       949.0  \n",
       "2           15.0          98         Labor/IO       136.0  \n",
       "3           23.0         326         Labor/IO       424.0  \n",
       "4            9.0          38  Macro/Int/Trade        56.0  "
      ]
     },
     "execution_count": 10,
     "metadata": {},
     "output_type": "execute_result"
    }
   ],
   "source": [
    "volume['totalCites'] = volume['volWoS'] + volume['volTop200Econ'] + volume['volGScites']\n",
    "volume.head()"
   ]
  },
  {
   "cell_type": "markdown",
   "metadata": {},
   "source": [
    "If we want to know the average number of Web of Science citations..."
   ]
  },
  {
   "cell_type": "code",
   "execution_count": 11,
   "metadata": {},
   "outputs": [
    {
     "data": {
      "text/plain": [
       "42.07142857142857"
      ]
     },
     "execution_count": 11,
     "metadata": {},
     "output_type": "execute_result"
    }
   ],
   "source": [
    "volume['volWoS'].mean()"
   ]
  },
  {
   "cell_type": "markdown",
   "metadata": {},
   "source": [
    "`.describe()` returns useful summary statistics "
   ]
  },
  {
   "cell_type": "code",
   "execution_count": 12,
   "metadata": {},
   "outputs": [
    {
     "data": {
      "text/plain": [
       "count     70.000000\n",
       "mean      42.071429\n",
       "std       43.070660\n",
       "min        1.000000\n",
       "25%       17.250000\n",
       "50%       28.500000\n",
       "75%       51.000000\n",
       "max      195.000000\n",
       "Name: volWoS, dtype: float64"
      ]
     },
     "execution_count": 12,
     "metadata": {},
     "output_type": "execute_result"
    }
   ],
   "source": [
    "volume['volWoS'].describe()"
   ]
  },
  {
   "cell_type": "markdown",
   "metadata": {},
   "source": [
    "### Exercises\n",
    "\n",
    "#### Add a column to `volume` with the proportion of citations that are from top 200 journals (out of total Google Scholar citations)"
   ]
  },
  {
   "cell_type": "code",
   "execution_count": null,
   "metadata": {
    "collapsed": true
   },
   "outputs": [],
   "source": []
  },
  {
   "cell_type": "markdown",
   "metadata": {},
   "source": [
    "<button data-toggle=\"collapse\" data-target=\"#sol1\" class='btn btn-primary'>Solution</button>\n",
    "<div id=\"sol1\" class=\"collapse\">\n",
    "```python\n",
    "volume['proportion'] = volume['volTop200Econ'] / volume['volGScites']\n",
    "```"
   ]
  },
  {
   "cell_type": "markdown",
   "metadata": {},
   "source": [
    "#### Find the means of Top 200 and Google Scholar citations"
   ]
  },
  {
   "cell_type": "code",
   "execution_count": null,
   "metadata": {
    "collapsed": true
   },
   "outputs": [],
   "source": []
  },
  {
   "cell_type": "markdown",
   "metadata": {},
   "source": [
    "<button data-toggle=\"collapse\" data-target=\"#sol2\" class='btn btn-primary'>Solution</button>\n",
    "<div id=\"sol2\" class=\"collapse\">\n",
    "```python\n",
    "volume[['volTop200Econ', 'volGScites']].mean()\n",
    "```"
   ]
  },
  {
   "cell_type": "markdown",
   "metadata": {},
   "source": [
    "#### Find the median of Web of Science citations"
   ]
  },
  {
   "cell_type": "code",
   "execution_count": null,
   "metadata": {
    "collapsed": true
   },
   "outputs": [],
   "source": []
  },
  {
   "cell_type": "markdown",
   "metadata": {},
   "source": [
    "<button data-toggle=\"collapse\" data-target=\"#sol3\" class='btn btn-primary'>Solution</button>\n",
    "<div id=\"sol3\" class=\"collapse\">\n",
    "```python\n",
    "volume['volWoS'].median()\n",
    "```"
   ]
  },
  {
   "cell_type": "markdown",
   "metadata": {},
   "source": [
    "#### Create a table of summary statistics of Top 200 cites and Google Scholar cites"
   ]
  },
  {
   "cell_type": "code",
   "execution_count": null,
   "metadata": {
    "collapsed": true
   },
   "outputs": [],
   "source": []
  },
  {
   "cell_type": "markdown",
   "metadata": {},
   "source": [
    "<button data-toggle=\"collapse\" data-target=\"#sol4\" class='btn btn-primary'>Solution</button>\n",
    "<div id=\"sol4\" class=\"collapse\">\n",
    "```python\n",
    "volume[['volTop200Econ', 'volGScites']].describe()\n",
    "```"
   ]
  },
  {
   "cell_type": "markdown",
   "metadata": {},
   "source": [
    "#### Create a table of summary statistics of the paper's fields"
   ]
  },
  {
   "cell_type": "code",
   "execution_count": null,
   "metadata": {
    "collapsed": true
   },
   "outputs": [],
   "source": []
  },
  {
   "cell_type": "markdown",
   "metadata": {},
   "source": [
    "<button data-toggle=\"collapse\" data-target=\"#sol5\" class='btn btn-primary'>Solution</button>\n",
    "<div id=\"sol5\" class=\"collapse\">\n",
    "```python\n",
    "volume['volField'].describe()\n",
    "```"
   ]
  },
  {
   "cell_type": "markdown",
   "metadata": {},
   "source": [
    "## Selecting and filtering"
   ]
  },
  {
   "cell_type": "markdown",
   "metadata": {},
   "source": [
    "We can use integer slicing to select rows as follows"
   ]
  },
  {
   "cell_type": "code",
   "execution_count": 13,
   "metadata": {},
   "outputs": [
    {
     "data": {
      "text/html": [
       "<div>\n",
       "<style>\n",
       "    .dataframe thead tr:only-child th {\n",
       "        text-align: right;\n",
       "    }\n",
       "\n",
       "    .dataframe thead th {\n",
       "        text-align: left;\n",
       "    }\n",
       "\n",
       "    .dataframe tbody tr th {\n",
       "        vertical-align: top;\n",
       "    }\n",
       "</style>\n",
       "<table border=\"1\" class=\"dataframe\">\n",
       "  <thead>\n",
       "    <tr style=\"text-align: right;\">\n",
       "      <th></th>\n",
       "      <th>volID</th>\n",
       "      <th>volTitle</th>\n",
       "      <th>volCoder</th>\n",
       "      <th>volWoS</th>\n",
       "      <th>volTop200Econ</th>\n",
       "      <th>volGScites</th>\n",
       "      <th>volField</th>\n",
       "      <th>totalCites</th>\n",
       "    </tr>\n",
       "  </thead>\n",
       "  <tbody>\n",
       "    <tr>\n",
       "      <th>0</th>\n",
       "      <td>2</td>\n",
       "      <td>Learning about a New Technology: Pineapple in ...</td>\n",
       "      <td>3.0</td>\n",
       "      <td>176</td>\n",
       "      <td>108.0</td>\n",
       "      <td>1246</td>\n",
       "      <td>Development</td>\n",
       "      <td>1530.0</td>\n",
       "    </tr>\n",
       "    <tr>\n",
       "      <th>1</th>\n",
       "      <td>3</td>\n",
       "      <td>Multiple-Product Firms and Product Switching</td>\n",
       "      <td>5.0</td>\n",
       "      <td>111</td>\n",
       "      <td>74.0</td>\n",
       "      <td>764</td>\n",
       "      <td>Labor/IO</td>\n",
       "      <td>949.0</td>\n",
       "    </tr>\n",
       "    <tr>\n",
       "      <th>2</th>\n",
       "      <td>4</td>\n",
       "      <td>Momma's Got the Pill\": How Anthony Comstock an...</td>\n",
       "      <td>5.0</td>\n",
       "      <td>23</td>\n",
       "      <td>15.0</td>\n",
       "      <td>98</td>\n",
       "      <td>Labor/IO</td>\n",
       "      <td>136.0</td>\n",
       "    </tr>\n",
       "    <tr>\n",
       "      <th>3</th>\n",
       "      <td>5</td>\n",
       "      <td>Matching and Sorting in Online Dating</td>\n",
       "      <td>1.0</td>\n",
       "      <td>75</td>\n",
       "      <td>23.0</td>\n",
       "      <td>326</td>\n",
       "      <td>Labor/IO</td>\n",
       "      <td>424.0</td>\n",
       "    </tr>\n",
       "    <tr>\n",
       "      <th>4</th>\n",
       "      <td>6</td>\n",
       "      <td>Entry, Exit, and Investment-Specific Technical...</td>\n",
       "      <td>2.0</td>\n",
       "      <td>9</td>\n",
       "      <td>9.0</td>\n",
       "      <td>38</td>\n",
       "      <td>Macro/Int/Trade</td>\n",
       "      <td>56.0</td>\n",
       "    </tr>\n",
       "  </tbody>\n",
       "</table>\n",
       "</div>"
      ],
      "text/plain": [
       "   volID                                           volTitle  volCoder  volWoS  \\\n",
       "0      2  Learning about a New Technology: Pineapple in ...       3.0     176   \n",
       "1      3       Multiple-Product Firms and Product Switching       5.0     111   \n",
       "2      4  Momma's Got the Pill\": How Anthony Comstock an...       5.0      23   \n",
       "3      5              Matching and Sorting in Online Dating       1.0      75   \n",
       "4      6  Entry, Exit, and Investment-Specific Technical...       2.0       9   \n",
       "\n",
       "   volTop200Econ  volGScites         volField  totalCites  \n",
       "0          108.0        1246      Development      1530.0  \n",
       "1           74.0         764         Labor/IO       949.0  \n",
       "2           15.0          98         Labor/IO       136.0  \n",
       "3           23.0         326         Labor/IO       424.0  \n",
       "4            9.0          38  Macro/Int/Trade        56.0  "
      ]
     },
     "execution_count": 13,
     "metadata": {},
     "output_type": "execute_result"
    }
   ],
   "source": [
    "volume[:5]"
   ]
  },
  {
   "cell_type": "markdown",
   "metadata": {},
   "source": [
    "We might want to find the top cited papers\n",
    "\n",
    "First we will sort our values by a column in the dataframe"
   ]
  },
  {
   "cell_type": "code",
   "execution_count": 14,
   "metadata": {},
   "outputs": [
    {
     "data": {
      "text/html": [
       "<div>\n",
       "<style>\n",
       "    .dataframe thead tr:only-child th {\n",
       "        text-align: right;\n",
       "    }\n",
       "\n",
       "    .dataframe thead th {\n",
       "        text-align: left;\n",
       "    }\n",
       "\n",
       "    .dataframe tbody tr th {\n",
       "        vertical-align: top;\n",
       "    }\n",
       "</style>\n",
       "<table border=\"1\" class=\"dataframe\">\n",
       "  <thead>\n",
       "    <tr style=\"text-align: right;\">\n",
       "      <th></th>\n",
       "      <th>volTitle</th>\n",
       "      <th>volTop200Econ</th>\n",
       "    </tr>\n",
       "  </thead>\n",
       "  <tbody>\n",
       "    <tr>\n",
       "      <th>0</th>\n",
       "      <td>Learning about a New Technology: Pineapple in Ghana</td>\n",
       "      <td>108.0</td>\n",
       "    </tr>\n",
       "    <tr>\n",
       "      <th>33</th>\n",
       "      <td>What Causes Industry Agglomeration? Evidence from Coagglomeration Patterns</td>\n",
       "      <td>93.0</td>\n",
       "    </tr>\n",
       "    <tr>\n",
       "      <th>15</th>\n",
       "      <td>Social Preferences, Beliefs, and the Dynamics of Free Riding in Public Goods Experiments</td>\n",
       "      <td>86.0</td>\n",
       "    </tr>\n",
       "    <tr>\n",
       "      <th>1</th>\n",
       "      <td>Multiple-Product Firms and Product Switching</td>\n",
       "      <td>74.0</td>\n",
       "    </tr>\n",
       "    <tr>\n",
       "      <th>35</th>\n",
       "      <td>Are Risk Aversion and Impatience Related to Cognitive Ability?</td>\n",
       "      <td>73.0</td>\n",
       "    </tr>\n",
       "  </tbody>\n",
       "</table>\n",
       "</div>"
      ],
      "text/plain": [
       "                                                                                    volTitle  \\\n",
       "0                                        Learning about a New Technology: Pineapple in Ghana   \n",
       "33                What Causes Industry Agglomeration? Evidence from Coagglomeration Patterns   \n",
       "15  Social Preferences, Beliefs, and the Dynamics of Free Riding in Public Goods Experiments   \n",
       "1                                               Multiple-Product Firms and Product Switching   \n",
       "35                            Are Risk Aversion and Impatience Related to Cognitive Ability?   \n",
       "\n",
       "    volTop200Econ  \n",
       "0           108.0  \n",
       "33           93.0  \n",
       "15           86.0  \n",
       "1            74.0  \n",
       "35           73.0  "
      ]
     },
     "execution_count": 14,
     "metadata": {},
     "output_type": "execute_result"
    }
   ],
   "source": [
    "pd.set_option('max_colwidth', 100)  # adjust column width\n",
    "\n",
    "volume[['volTitle', 'volTop200Econ']].sort_values(by='volTop200Econ', ascending=False)[:5]"
   ]
  },
  {
   "cell_type": "markdown",
   "metadata": {},
   "source": [
    "Another way to select rows is to use row labels, ie. set a row index\n",
    "\n",
    "Similar to the column labels, we can add row labels (the index)"
   ]
  },
  {
   "cell_type": "code",
   "execution_count": 15,
   "metadata": {},
   "outputs": [
    {
     "data": {
      "text/html": [
       "<div>\n",
       "<style>\n",
       "    .dataframe thead tr:only-child th {\n",
       "        text-align: right;\n",
       "    }\n",
       "\n",
       "    .dataframe thead th {\n",
       "        text-align: left;\n",
       "    }\n",
       "\n",
       "    .dataframe tbody tr th {\n",
       "        vertical-align: top;\n",
       "    }\n",
       "</style>\n",
       "<table border=\"1\" class=\"dataframe\">\n",
       "  <thead>\n",
       "    <tr style=\"text-align: right;\">\n",
       "      <th></th>\n",
       "      <th>volID</th>\n",
       "      <th>volCoder</th>\n",
       "      <th>volWoS</th>\n",
       "      <th>volTop200Econ</th>\n",
       "      <th>volGScites</th>\n",
       "      <th>volField</th>\n",
       "      <th>totalCites</th>\n",
       "    </tr>\n",
       "    <tr>\n",
       "      <th>volTitle</th>\n",
       "      <th></th>\n",
       "      <th></th>\n",
       "      <th></th>\n",
       "      <th></th>\n",
       "      <th></th>\n",
       "      <th></th>\n",
       "      <th></th>\n",
       "    </tr>\n",
       "  </thead>\n",
       "  <tbody>\n",
       "    <tr>\n",
       "      <th>Learning about a New Technology: Pineapple in Ghana</th>\n",
       "      <td>2</td>\n",
       "      <td>3.0</td>\n",
       "      <td>176</td>\n",
       "      <td>108.0</td>\n",
       "      <td>1246</td>\n",
       "      <td>Development</td>\n",
       "      <td>1530.0</td>\n",
       "    </tr>\n",
       "    <tr>\n",
       "      <th>Multiple-Product Firms and Product Switching</th>\n",
       "      <td>3</td>\n",
       "      <td>5.0</td>\n",
       "      <td>111</td>\n",
       "      <td>74.0</td>\n",
       "      <td>764</td>\n",
       "      <td>Labor/IO</td>\n",
       "      <td>949.0</td>\n",
       "    </tr>\n",
       "    <tr>\n",
       "      <th>Momma's Got the Pill\": How Anthony Comstock and Griswold v. Connecticut Shaped US Childbearing</th>\n",
       "      <td>4</td>\n",
       "      <td>5.0</td>\n",
       "      <td>23</td>\n",
       "      <td>15.0</td>\n",
       "      <td>98</td>\n",
       "      <td>Labor/IO</td>\n",
       "      <td>136.0</td>\n",
       "    </tr>\n",
       "    <tr>\n",
       "      <th>Matching and Sorting in Online Dating</th>\n",
       "      <td>5</td>\n",
       "      <td>1.0</td>\n",
       "      <td>75</td>\n",
       "      <td>23.0</td>\n",
       "      <td>326</td>\n",
       "      <td>Labor/IO</td>\n",
       "      <td>424.0</td>\n",
       "    </tr>\n",
       "    <tr>\n",
       "      <th>Entry, Exit, and Investment-Specific Technical Change</th>\n",
       "      <td>6</td>\n",
       "      <td>2.0</td>\n",
       "      <td>9</td>\n",
       "      <td>9.0</td>\n",
       "      <td>38</td>\n",
       "      <td>Macro/Int/Trade</td>\n",
       "      <td>56.0</td>\n",
       "    </tr>\n",
       "  </tbody>\n",
       "</table>\n",
       "</div>"
      ],
      "text/plain": [
       "                                                                                                volID  \\\n",
       "volTitle                                                                                                \n",
       "Learning about a New Technology: Pineapple in Ghana                                                 2   \n",
       "Multiple-Product Firms and Product Switching                                                        3   \n",
       "Momma's Got the Pill\": How Anthony Comstock and Griswold v. Connecticut Shaped US Childbearing      4   \n",
       "Matching and Sorting in Online Dating                                                               5   \n",
       "Entry, Exit, and Investment-Specific Technical Change                                               6   \n",
       "\n",
       "                                                                                                volCoder  \\\n",
       "volTitle                                                                                                   \n",
       "Learning about a New Technology: Pineapple in Ghana                                                  3.0   \n",
       "Multiple-Product Firms and Product Switching                                                         5.0   \n",
       "Momma's Got the Pill\": How Anthony Comstock and Griswold v. Connecticut Shaped US Childbearing       5.0   \n",
       "Matching and Sorting in Online Dating                                                                1.0   \n",
       "Entry, Exit, and Investment-Specific Technical Change                                                2.0   \n",
       "\n",
       "                                                                                                volWoS  \\\n",
       "volTitle                                                                                                 \n",
       "Learning about a New Technology: Pineapple in Ghana                                                176   \n",
       "Multiple-Product Firms and Product Switching                                                       111   \n",
       "Momma's Got the Pill\": How Anthony Comstock and Griswold v. Connecticut Shaped US Childbearing      23   \n",
       "Matching and Sorting in Online Dating                                                               75   \n",
       "Entry, Exit, and Investment-Specific Technical Change                                                9   \n",
       "\n",
       "                                                                                                volTop200Econ  \\\n",
       "volTitle                                                                                                        \n",
       "Learning about a New Technology: Pineapple in Ghana                                                     108.0   \n",
       "Multiple-Product Firms and Product Switching                                                             74.0   \n",
       "Momma's Got the Pill\": How Anthony Comstock and Griswold v. Connecticut Shaped US Childbearing           15.0   \n",
       "Matching and Sorting in Online Dating                                                                    23.0   \n",
       "Entry, Exit, and Investment-Specific Technical Change                                                     9.0   \n",
       "\n",
       "                                                                                                volGScites  \\\n",
       "volTitle                                                                                                     \n",
       "Learning about a New Technology: Pineapple in Ghana                                                   1246   \n",
       "Multiple-Product Firms and Product Switching                                                           764   \n",
       "Momma's Got the Pill\": How Anthony Comstock and Griswold v. Connecticut Shaped US Childbearing          98   \n",
       "Matching and Sorting in Online Dating                                                                  326   \n",
       "Entry, Exit, and Investment-Specific Technical Change                                                   38   \n",
       "\n",
       "                                                                                                       volField  \\\n",
       "volTitle                                                                                                          \n",
       "Learning about a New Technology: Pineapple in Ghana                                                 Development   \n",
       "Multiple-Product Firms and Product Switching                                                           Labor/IO   \n",
       "Momma's Got the Pill\": How Anthony Comstock and Griswold v. Connecticut Shaped US Childbearing         Labor/IO   \n",
       "Matching and Sorting in Online Dating                                                                  Labor/IO   \n",
       "Entry, Exit, and Investment-Specific Technical Change                                           Macro/Int/Trade   \n",
       "\n",
       "                                                                                                totalCites  \n",
       "volTitle                                                                                                    \n",
       "Learning about a New Technology: Pineapple in Ghana                                                 1530.0  \n",
       "Multiple-Product Firms and Product Switching                                                         949.0  \n",
       "Momma's Got the Pill\": How Anthony Comstock and Griswold v. Connecticut Shaped US Childbearing       136.0  \n",
       "Matching and Sorting in Online Dating                                                                424.0  \n",
       "Entry, Exit, and Investment-Specific Technical Change                                                 56.0  "
      ]
     },
     "execution_count": 15,
     "metadata": {},
     "output_type": "execute_result"
    }
   ],
   "source": [
    "volume.set_index('volTitle').head()"
   ]
  },
  {
   "cell_type": "markdown",
   "metadata": {},
   "source": [
    "Note: we haven't actually changed `volume`"
   ]
  },
  {
   "cell_type": "code",
   "execution_count": 16,
   "metadata": {},
   "outputs": [
    {
     "data": {
      "text/html": [
       "<div>\n",
       "<style>\n",
       "    .dataframe thead tr:only-child th {\n",
       "        text-align: right;\n",
       "    }\n",
       "\n",
       "    .dataframe thead th {\n",
       "        text-align: left;\n",
       "    }\n",
       "\n",
       "    .dataframe tbody tr th {\n",
       "        vertical-align: top;\n",
       "    }\n",
       "</style>\n",
       "<table border=\"1\" class=\"dataframe\">\n",
       "  <thead>\n",
       "    <tr style=\"text-align: right;\">\n",
       "      <th></th>\n",
       "      <th>volID</th>\n",
       "      <th>volTitle</th>\n",
       "      <th>volCoder</th>\n",
       "      <th>volWoS</th>\n",
       "      <th>volTop200Econ</th>\n",
       "      <th>volGScites</th>\n",
       "      <th>volField</th>\n",
       "      <th>totalCites</th>\n",
       "    </tr>\n",
       "  </thead>\n",
       "  <tbody>\n",
       "    <tr>\n",
       "      <th>0</th>\n",
       "      <td>2</td>\n",
       "      <td>Learning about a New Technology: Pineapple in Ghana</td>\n",
       "      <td>3.0</td>\n",
       "      <td>176</td>\n",
       "      <td>108.0</td>\n",
       "      <td>1246</td>\n",
       "      <td>Development</td>\n",
       "      <td>1530.0</td>\n",
       "    </tr>\n",
       "    <tr>\n",
       "      <th>1</th>\n",
       "      <td>3</td>\n",
       "      <td>Multiple-Product Firms and Product Switching</td>\n",
       "      <td>5.0</td>\n",
       "      <td>111</td>\n",
       "      <td>74.0</td>\n",
       "      <td>764</td>\n",
       "      <td>Labor/IO</td>\n",
       "      <td>949.0</td>\n",
       "    </tr>\n",
       "    <tr>\n",
       "      <th>2</th>\n",
       "      <td>4</td>\n",
       "      <td>Momma's Got the Pill\": How Anthony Comstock and Griswold v. Connecticut Shaped US Childbearing</td>\n",
       "      <td>5.0</td>\n",
       "      <td>23</td>\n",
       "      <td>15.0</td>\n",
       "      <td>98</td>\n",
       "      <td>Labor/IO</td>\n",
       "      <td>136.0</td>\n",
       "    </tr>\n",
       "    <tr>\n",
       "      <th>3</th>\n",
       "      <td>5</td>\n",
       "      <td>Matching and Sorting in Online Dating</td>\n",
       "      <td>1.0</td>\n",
       "      <td>75</td>\n",
       "      <td>23.0</td>\n",
       "      <td>326</td>\n",
       "      <td>Labor/IO</td>\n",
       "      <td>424.0</td>\n",
       "    </tr>\n",
       "    <tr>\n",
       "      <th>4</th>\n",
       "      <td>6</td>\n",
       "      <td>Entry, Exit, and Investment-Specific Technical Change</td>\n",
       "      <td>2.0</td>\n",
       "      <td>9</td>\n",
       "      <td>9.0</td>\n",
       "      <td>38</td>\n",
       "      <td>Macro/Int/Trade</td>\n",
       "      <td>56.0</td>\n",
       "    </tr>\n",
       "  </tbody>\n",
       "</table>\n",
       "</div>"
      ],
      "text/plain": [
       "   volID  \\\n",
       "0      2   \n",
       "1      3   \n",
       "2      4   \n",
       "3      5   \n",
       "4      6   \n",
       "\n",
       "                                                                                         volTitle  \\\n",
       "0                                             Learning about a New Technology: Pineapple in Ghana   \n",
       "1                                                    Multiple-Product Firms and Product Switching   \n",
       "2  Momma's Got the Pill\": How Anthony Comstock and Griswold v. Connecticut Shaped US Childbearing   \n",
       "3                                                           Matching and Sorting in Online Dating   \n",
       "4                                           Entry, Exit, and Investment-Specific Technical Change   \n",
       "\n",
       "   volCoder  volWoS  volTop200Econ  volGScites         volField  totalCites  \n",
       "0       3.0     176          108.0        1246      Development      1530.0  \n",
       "1       5.0     111           74.0         764         Labor/IO       949.0  \n",
       "2       5.0      23           15.0          98         Labor/IO       136.0  \n",
       "3       1.0      75           23.0         326         Labor/IO       424.0  \n",
       "4       2.0       9            9.0          38  Macro/Int/Trade        56.0  "
      ]
     },
     "execution_count": 16,
     "metadata": {},
     "output_type": "execute_result"
    }
   ],
   "source": [
    "volume.head()"
   ]
  },
  {
   "cell_type": "markdown",
   "metadata": {},
   "source": [
    "Need to overwrite `volume` with the new copy"
   ]
  },
  {
   "cell_type": "code",
   "execution_count": 17,
   "metadata": {},
   "outputs": [
    {
     "data": {
      "text/html": [
       "<div>\n",
       "<style>\n",
       "    .dataframe thead tr:only-child th {\n",
       "        text-align: right;\n",
       "    }\n",
       "\n",
       "    .dataframe thead th {\n",
       "        text-align: left;\n",
       "    }\n",
       "\n",
       "    .dataframe tbody tr th {\n",
       "        vertical-align: top;\n",
       "    }\n",
       "</style>\n",
       "<table border=\"1\" class=\"dataframe\">\n",
       "  <thead>\n",
       "    <tr style=\"text-align: right;\">\n",
       "      <th></th>\n",
       "      <th>volID</th>\n",
       "      <th>volCoder</th>\n",
       "      <th>volWoS</th>\n",
       "      <th>volTop200Econ</th>\n",
       "      <th>volGScites</th>\n",
       "      <th>volField</th>\n",
       "      <th>totalCites</th>\n",
       "    </tr>\n",
       "    <tr>\n",
       "      <th>volTitle</th>\n",
       "      <th></th>\n",
       "      <th></th>\n",
       "      <th></th>\n",
       "      <th></th>\n",
       "      <th></th>\n",
       "      <th></th>\n",
       "      <th></th>\n",
       "    </tr>\n",
       "  </thead>\n",
       "  <tbody>\n",
       "    <tr>\n",
       "      <th>Learning about a New Technology: Pineapple in Ghana</th>\n",
       "      <td>2</td>\n",
       "      <td>3.0</td>\n",
       "      <td>176</td>\n",
       "      <td>108.0</td>\n",
       "      <td>1246</td>\n",
       "      <td>Development</td>\n",
       "      <td>1530.0</td>\n",
       "    </tr>\n",
       "    <tr>\n",
       "      <th>Multiple-Product Firms and Product Switching</th>\n",
       "      <td>3</td>\n",
       "      <td>5.0</td>\n",
       "      <td>111</td>\n",
       "      <td>74.0</td>\n",
       "      <td>764</td>\n",
       "      <td>Labor/IO</td>\n",
       "      <td>949.0</td>\n",
       "    </tr>\n",
       "    <tr>\n",
       "      <th>Momma's Got the Pill\": How Anthony Comstock and Griswold v. Connecticut Shaped US Childbearing</th>\n",
       "      <td>4</td>\n",
       "      <td>5.0</td>\n",
       "      <td>23</td>\n",
       "      <td>15.0</td>\n",
       "      <td>98</td>\n",
       "      <td>Labor/IO</td>\n",
       "      <td>136.0</td>\n",
       "    </tr>\n",
       "    <tr>\n",
       "      <th>Matching and Sorting in Online Dating</th>\n",
       "      <td>5</td>\n",
       "      <td>1.0</td>\n",
       "      <td>75</td>\n",
       "      <td>23.0</td>\n",
       "      <td>326</td>\n",
       "      <td>Labor/IO</td>\n",
       "      <td>424.0</td>\n",
       "    </tr>\n",
       "    <tr>\n",
       "      <th>Entry, Exit, and Investment-Specific Technical Change</th>\n",
       "      <td>6</td>\n",
       "      <td>2.0</td>\n",
       "      <td>9</td>\n",
       "      <td>9.0</td>\n",
       "      <td>38</td>\n",
       "      <td>Macro/Int/Trade</td>\n",
       "      <td>56.0</td>\n",
       "    </tr>\n",
       "  </tbody>\n",
       "</table>\n",
       "</div>"
      ],
      "text/plain": [
       "                                                                                                volID  \\\n",
       "volTitle                                                                                                \n",
       "Learning about a New Technology: Pineapple in Ghana                                                 2   \n",
       "Multiple-Product Firms and Product Switching                                                        3   \n",
       "Momma's Got the Pill\": How Anthony Comstock and Griswold v. Connecticut Shaped US Childbearing      4   \n",
       "Matching and Sorting in Online Dating                                                               5   \n",
       "Entry, Exit, and Investment-Specific Technical Change                                               6   \n",
       "\n",
       "                                                                                                volCoder  \\\n",
       "volTitle                                                                                                   \n",
       "Learning about a New Technology: Pineapple in Ghana                                                  3.0   \n",
       "Multiple-Product Firms and Product Switching                                                         5.0   \n",
       "Momma's Got the Pill\": How Anthony Comstock and Griswold v. Connecticut Shaped US Childbearing       5.0   \n",
       "Matching and Sorting in Online Dating                                                                1.0   \n",
       "Entry, Exit, and Investment-Specific Technical Change                                                2.0   \n",
       "\n",
       "                                                                                                volWoS  \\\n",
       "volTitle                                                                                                 \n",
       "Learning about a New Technology: Pineapple in Ghana                                                176   \n",
       "Multiple-Product Firms and Product Switching                                                       111   \n",
       "Momma's Got the Pill\": How Anthony Comstock and Griswold v. Connecticut Shaped US Childbearing      23   \n",
       "Matching and Sorting in Online Dating                                                               75   \n",
       "Entry, Exit, and Investment-Specific Technical Change                                                9   \n",
       "\n",
       "                                                                                                volTop200Econ  \\\n",
       "volTitle                                                                                                        \n",
       "Learning about a New Technology: Pineapple in Ghana                                                     108.0   \n",
       "Multiple-Product Firms and Product Switching                                                             74.0   \n",
       "Momma's Got the Pill\": How Anthony Comstock and Griswold v. Connecticut Shaped US Childbearing           15.0   \n",
       "Matching and Sorting in Online Dating                                                                    23.0   \n",
       "Entry, Exit, and Investment-Specific Technical Change                                                     9.0   \n",
       "\n",
       "                                                                                                volGScites  \\\n",
       "volTitle                                                                                                     \n",
       "Learning about a New Technology: Pineapple in Ghana                                                   1246   \n",
       "Multiple-Product Firms and Product Switching                                                           764   \n",
       "Momma's Got the Pill\": How Anthony Comstock and Griswold v. Connecticut Shaped US Childbearing          98   \n",
       "Matching and Sorting in Online Dating                                                                  326   \n",
       "Entry, Exit, and Investment-Specific Technical Change                                                   38   \n",
       "\n",
       "                                                                                                       volField  \\\n",
       "volTitle                                                                                                          \n",
       "Learning about a New Technology: Pineapple in Ghana                                                 Development   \n",
       "Multiple-Product Firms and Product Switching                                                           Labor/IO   \n",
       "Momma's Got the Pill\": How Anthony Comstock and Griswold v. Connecticut Shaped US Childbearing         Labor/IO   \n",
       "Matching and Sorting in Online Dating                                                                  Labor/IO   \n",
       "Entry, Exit, and Investment-Specific Technical Change                                           Macro/Int/Trade   \n",
       "\n",
       "                                                                                                totalCites  \n",
       "volTitle                                                                                                    \n",
       "Learning about a New Technology: Pineapple in Ghana                                                 1530.0  \n",
       "Multiple-Product Firms and Product Switching                                                         949.0  \n",
       "Momma's Got the Pill\": How Anthony Comstock and Griswold v. Connecticut Shaped US Childbearing       136.0  \n",
       "Matching and Sorting in Online Dating                                                                424.0  \n",
       "Entry, Exit, and Investment-Specific Technical Change                                                 56.0  "
      ]
     },
     "execution_count": 17,
     "metadata": {},
     "output_type": "execute_result"
    }
   ],
   "source": [
    "volume = volume.set_index('volTitle')   # Can also use volume.set_index('volTitle', inplace=True)\n",
    "volume.head()"
   ]
  },
  {
   "cell_type": "code",
   "execution_count": 18,
   "metadata": {},
   "outputs": [
    {
     "data": {
      "text/plain": [
       "volID                   5\n",
       "volCoder                1\n",
       "volWoS                 75\n",
       "volTop200Econ          23\n",
       "volGScites            326\n",
       "volField         Labor/IO\n",
       "totalCites            424\n",
       "Name: Matching and Sorting in Online Dating, dtype: object"
      ]
     },
     "execution_count": 18,
     "metadata": {},
     "output_type": "execute_result"
    }
   ],
   "source": [
    "volume.loc['Matching and Sorting in Online Dating']"
   ]
  },
  {
   "cell_type": "code",
   "execution_count": 19,
   "metadata": {},
   "outputs": [
    {
     "data": {
      "text/html": [
       "<div>\n",
       "<style>\n",
       "    .dataframe thead tr:only-child th {\n",
       "        text-align: right;\n",
       "    }\n",
       "\n",
       "    .dataframe thead th {\n",
       "        text-align: left;\n",
       "    }\n",
       "\n",
       "    .dataframe tbody tr th {\n",
       "        vertical-align: top;\n",
       "    }\n",
       "</style>\n",
       "<table border=\"1\" class=\"dataframe\">\n",
       "  <thead>\n",
       "    <tr style=\"text-align: right;\">\n",
       "      <th></th>\n",
       "      <th>volID</th>\n",
       "      <th>volCoder</th>\n",
       "      <th>volWoS</th>\n",
       "      <th>volTop200Econ</th>\n",
       "      <th>volGScites</th>\n",
       "      <th>volField</th>\n",
       "      <th>totalCites</th>\n",
       "    </tr>\n",
       "    <tr>\n",
       "      <th>volTitle</th>\n",
       "      <th></th>\n",
       "      <th></th>\n",
       "      <th></th>\n",
       "      <th></th>\n",
       "      <th></th>\n",
       "      <th></th>\n",
       "      <th></th>\n",
       "    </tr>\n",
       "  </thead>\n",
       "  <tbody>\n",
       "    <tr>\n",
       "      <th>Matching and Sorting in Online Dating</th>\n",
       "      <td>5</td>\n",
       "      <td>1.0</td>\n",
       "      <td>75</td>\n",
       "      <td>23.0</td>\n",
       "      <td>326</td>\n",
       "      <td>Labor/IO</td>\n",
       "      <td>424.0</td>\n",
       "    </tr>\n",
       "    <tr>\n",
       "      <th>Learning about a New Technology: Pineapple in Ghana</th>\n",
       "      <td>2</td>\n",
       "      <td>3.0</td>\n",
       "      <td>176</td>\n",
       "      <td>108.0</td>\n",
       "      <td>1246</td>\n",
       "      <td>Development</td>\n",
       "      <td>1530.0</td>\n",
       "    </tr>\n",
       "  </tbody>\n",
       "</table>\n",
       "</div>"
      ],
      "text/plain": [
       "                                                     volID  volCoder  volWoS  \\\n",
       "volTitle                                                                       \n",
       "Matching and Sorting in Online Dating                    5       1.0      75   \n",
       "Learning about a New Technology: Pineapple in Ghana      2       3.0     176   \n",
       "\n",
       "                                                     volTop200Econ  \\\n",
       "volTitle                                                             \n",
       "Matching and Sorting in Online Dating                         23.0   \n",
       "Learning about a New Technology: Pineapple in Ghana          108.0   \n",
       "\n",
       "                                                     volGScites     volField  \\\n",
       "volTitle                                                                       \n",
       "Matching and Sorting in Online Dating                       326     Labor/IO   \n",
       "Learning about a New Technology: Pineapple in Ghana        1246  Development   \n",
       "\n",
       "                                                     totalCites  \n",
       "volTitle                                                         \n",
       "Matching and Sorting in Online Dating                     424.0  \n",
       "Learning about a New Technology: Pineapple in Ghana      1530.0  "
      ]
     },
     "execution_count": 19,
     "metadata": {},
     "output_type": "execute_result"
    }
   ],
   "source": [
    "volume.loc[['Matching and Sorting in Online Dating', 'Learning about a New Technology: Pineapple in Ghana']]"
   ]
  },
  {
   "cell_type": "markdown",
   "metadata": {},
   "source": [
    "We can also sort our index (this is recommended for efficient filtering)"
   ]
  },
  {
   "cell_type": "code",
   "execution_count": 20,
   "metadata": {},
   "outputs": [
    {
     "data": {
      "text/html": [
       "<div>\n",
       "<style>\n",
       "    .dataframe thead tr:only-child th {\n",
       "        text-align: right;\n",
       "    }\n",
       "\n",
       "    .dataframe thead th {\n",
       "        text-align: left;\n",
       "    }\n",
       "\n",
       "    .dataframe tbody tr th {\n",
       "        vertical-align: top;\n",
       "    }\n",
       "</style>\n",
       "<table border=\"1\" class=\"dataframe\">\n",
       "  <thead>\n",
       "    <tr style=\"text-align: right;\">\n",
       "      <th></th>\n",
       "      <th>volID</th>\n",
       "      <th>volCoder</th>\n",
       "      <th>volWoS</th>\n",
       "      <th>volTop200Econ</th>\n",
       "      <th>volGScites</th>\n",
       "      <th>volField</th>\n",
       "      <th>totalCites</th>\n",
       "    </tr>\n",
       "    <tr>\n",
       "      <th>volTitle</th>\n",
       "      <th></th>\n",
       "      <th></th>\n",
       "      <th></th>\n",
       "      <th></th>\n",
       "      <th></th>\n",
       "      <th></th>\n",
       "      <th></th>\n",
       "    </tr>\n",
       "  </thead>\n",
       "  <tbody>\n",
       "    <tr>\n",
       "      <th>A New Approach to Estimating the Production Function for Housing</th>\n",
       "      <td>37</td>\n",
       "      <td>5.0</td>\n",
       "      <td>13</td>\n",
       "      <td>11.0</td>\n",
       "      <td>74</td>\n",
       "      <td>Applied (gen.)</td>\n",
       "      <td>98.0</td>\n",
       "    </tr>\n",
       "    <tr>\n",
       "      <th>A Study of the Internal Organization of a Bidding Cartel</th>\n",
       "      <td>32</td>\n",
       "      <td>5.0</td>\n",
       "      <td>21</td>\n",
       "      <td>11.0</td>\n",
       "      <td>127</td>\n",
       "      <td>Labor/IO</td>\n",
       "      <td>159.0</td>\n",
       "    </tr>\n",
       "    <tr>\n",
       "      <th>A Theory of Optimal Random Crackdowns</th>\n",
       "      <td>44</td>\n",
       "      <td>5.0</td>\n",
       "      <td>4</td>\n",
       "      <td>2.0</td>\n",
       "      <td>41</td>\n",
       "      <td>Applied (gen.)</td>\n",
       "      <td>47.0</td>\n",
       "    </tr>\n",
       "    <tr>\n",
       "      <th>An Exploration of Technology Diffusion</th>\n",
       "      <td>84</td>\n",
       "      <td>2.0</td>\n",
       "      <td>36</td>\n",
       "      <td>16.0</td>\n",
       "      <td>226</td>\n",
       "      <td>Macro/Int/Trade</td>\n",
       "      <td>278.0</td>\n",
       "    </tr>\n",
       "    <tr>\n",
       "      <th>Are Health Insurance Markets Competitive?</th>\n",
       "      <td>58</td>\n",
       "      <td>5.0</td>\n",
       "      <td>29</td>\n",
       "      <td>16.0</td>\n",
       "      <td>139</td>\n",
       "      <td>Labor/IO</td>\n",
       "      <td>184.0</td>\n",
       "    </tr>\n",
       "  </tbody>\n",
       "</table>\n",
       "</div>"
      ],
      "text/plain": [
       "                                                                  volID  \\\n",
       "volTitle                                                                  \n",
       "A New Approach to Estimating the Production Function for Housing     37   \n",
       "A Study of the Internal Organization of a Bidding Cartel             32   \n",
       "A Theory of Optimal Random Crackdowns                                44   \n",
       "An Exploration of Technology Diffusion                               84   \n",
       "Are Health Insurance Markets Competitive?                            58   \n",
       "\n",
       "                                                                  volCoder  \\\n",
       "volTitle                                                                     \n",
       "A New Approach to Estimating the Production Function for Housing       5.0   \n",
       "A Study of the Internal Organization of a Bidding Cartel               5.0   \n",
       "A Theory of Optimal Random Crackdowns                                  5.0   \n",
       "An Exploration of Technology Diffusion                                 2.0   \n",
       "Are Health Insurance Markets Competitive?                              5.0   \n",
       "\n",
       "                                                                  volWoS  \\\n",
       "volTitle                                                                   \n",
       "A New Approach to Estimating the Production Function for Housing      13   \n",
       "A Study of the Internal Organization of a Bidding Cartel              21   \n",
       "A Theory of Optimal Random Crackdowns                                  4   \n",
       "An Exploration of Technology Diffusion                                36   \n",
       "Are Health Insurance Markets Competitive?                             29   \n",
       "\n",
       "                                                                  volTop200Econ  \\\n",
       "volTitle                                                                          \n",
       "A New Approach to Estimating the Production Function for Housing           11.0   \n",
       "A Study of the Internal Organization of a Bidding Cartel                   11.0   \n",
       "A Theory of Optimal Random Crackdowns                                       2.0   \n",
       "An Exploration of Technology Diffusion                                     16.0   \n",
       "Are Health Insurance Markets Competitive?                                  16.0   \n",
       "\n",
       "                                                                  volGScites  \\\n",
       "volTitle                                                                       \n",
       "A New Approach to Estimating the Production Function for Housing          74   \n",
       "A Study of the Internal Organization of a Bidding Cartel                 127   \n",
       "A Theory of Optimal Random Crackdowns                                     41   \n",
       "An Exploration of Technology Diffusion                                   226   \n",
       "Are Health Insurance Markets Competitive?                                139   \n",
       "\n",
       "                                                                         volField  \\\n",
       "volTitle                                                                            \n",
       "A New Approach to Estimating the Production Function for Housing   Applied (gen.)   \n",
       "A Study of the Internal Organization of a Bidding Cartel                 Labor/IO   \n",
       "A Theory of Optimal Random Crackdowns                              Applied (gen.)   \n",
       "An Exploration of Technology Diffusion                            Macro/Int/Trade   \n",
       "Are Health Insurance Markets Competitive?                                Labor/IO   \n",
       "\n",
       "                                                                  totalCites  \n",
       "volTitle                                                                      \n",
       "A New Approach to Estimating the Production Function for Housing        98.0  \n",
       "A Study of the Internal Organization of a Bidding Cartel               159.0  \n",
       "A Theory of Optimal Random Crackdowns                                   47.0  \n",
       "An Exploration of Technology Diffusion                                 278.0  \n",
       "Are Health Insurance Markets Competitive?                              184.0  "
      ]
     },
     "execution_count": 20,
     "metadata": {},
     "output_type": "execute_result"
    }
   ],
   "source": [
    "volume.sort_index(inplace=True)\n",
    "volume.head()"
   ]
  },
  {
   "cell_type": "code",
   "execution_count": 21,
   "metadata": {},
   "outputs": [
    {
     "data": {
      "text/plain": [
       "'Macro/Int/Trade'"
      ]
     },
     "execution_count": 21,
     "metadata": {},
     "output_type": "execute_result"
    }
   ],
   "source": [
    "volume.loc['An Exploration of Technology Diffusion', 'volField']"
   ]
  },
  {
   "cell_type": "code",
   "execution_count": 22,
   "metadata": {},
   "outputs": [
    {
     "data": {
      "text/plain": [
       "'Macro/Int/Trade'"
      ]
     },
     "execution_count": 22,
     "metadata": {},
     "output_type": "execute_result"
    }
   ],
   "source": [
    "volume.iloc[3, 5]"
   ]
  },
  {
   "cell_type": "markdown",
   "metadata": {},
   "source": [
    "We can also create a multiindex that contains multiple levels in the index"
   ]
  },
  {
   "cell_type": "code",
   "execution_count": 23,
   "metadata": {},
   "outputs": [
    {
     "data": {
      "text/html": [
       "<div>\n",
       "<style>\n",
       "    .dataframe thead tr:only-child th {\n",
       "        text-align: right;\n",
       "    }\n",
       "\n",
       "    .dataframe thead th {\n",
       "        text-align: left;\n",
       "    }\n",
       "\n",
       "    .dataframe tbody tr th {\n",
       "        vertical-align: top;\n",
       "    }\n",
       "</style>\n",
       "<table border=\"1\" class=\"dataframe\">\n",
       "  <thead>\n",
       "    <tr style=\"text-align: right;\">\n",
       "      <th></th>\n",
       "      <th></th>\n",
       "      <th>volID</th>\n",
       "      <th>volCoder</th>\n",
       "      <th>volWoS</th>\n",
       "      <th>volTop200Econ</th>\n",
       "      <th>volGScites</th>\n",
       "      <th>totalCites</th>\n",
       "    </tr>\n",
       "    <tr>\n",
       "      <th>volField</th>\n",
       "      <th>volTitle</th>\n",
       "      <th></th>\n",
       "      <th></th>\n",
       "      <th></th>\n",
       "      <th></th>\n",
       "      <th></th>\n",
       "      <th></th>\n",
       "    </tr>\n",
       "  </thead>\n",
       "  <tbody>\n",
       "    <tr>\n",
       "      <th rowspan=\"5\" valign=\"top\">Applied (gen.)</th>\n",
       "      <th>A New Approach to Estimating the Production Function for Housing</th>\n",
       "      <td>37</td>\n",
       "      <td>5.0</td>\n",
       "      <td>13</td>\n",
       "      <td>11.0</td>\n",
       "      <td>74</td>\n",
       "      <td>98.0</td>\n",
       "    </tr>\n",
       "    <tr>\n",
       "      <th>A Theory of Optimal Random Crackdowns</th>\n",
       "      <td>44</td>\n",
       "      <td>5.0</td>\n",
       "      <td>4</td>\n",
       "      <td>2.0</td>\n",
       "      <td>41</td>\n",
       "      <td>47.0</td>\n",
       "    </tr>\n",
       "    <tr>\n",
       "      <th>Doing Well by Doing Good? Green Office Buildings</th>\n",
       "      <td>101</td>\n",
       "      <td>4.0</td>\n",
       "      <td>69</td>\n",
       "      <td>18.0</td>\n",
       "      <td>681</td>\n",
       "      <td>768.0</td>\n",
       "    </tr>\n",
       "    <tr>\n",
       "      <th>Emissions Trading, Electricity Restructuring, and Investment in Pollution Abatement</th>\n",
       "      <td>35</td>\n",
       "      <td>3.0</td>\n",
       "      <td>29</td>\n",
       "      <td>16.0</td>\n",
       "      <td>113</td>\n",
       "      <td>158.0</td>\n",
       "    </tr>\n",
       "    <tr>\n",
       "      <th>Is a Donor in Hand Better than Two in the Bush? Evidence from a Natural Field Experiment</th>\n",
       "      <td>39</td>\n",
       "      <td>4.0</td>\n",
       "      <td>18</td>\n",
       "      <td>10.0</td>\n",
       "      <td>72</td>\n",
       "      <td>100.0</td>\n",
       "    </tr>\n",
       "  </tbody>\n",
       "</table>\n",
       "</div>"
      ],
      "text/plain": [
       "                                                                                                         volID  \\\n",
       "volField       volTitle                                                                                          \n",
       "Applied (gen.) A New Approach to Estimating the Production Function for Housing                             37   \n",
       "               A Theory of Optimal Random Crackdowns                                                        44   \n",
       "               Doing Well by Doing Good? Green Office Buildings                                            101   \n",
       "               Emissions Trading, Electricity Restructuring, and Investment in Pollution Abatement          35   \n",
       "               Is a Donor in Hand Better than Two in the Bush? Evidence from a Natural Field Experiment     39   \n",
       "\n",
       "                                                                                                         volCoder  \\\n",
       "volField       volTitle                                                                                             \n",
       "Applied (gen.) A New Approach to Estimating the Production Function for Housing                               5.0   \n",
       "               A Theory of Optimal Random Crackdowns                                                          5.0   \n",
       "               Doing Well by Doing Good? Green Office Buildings                                               4.0   \n",
       "               Emissions Trading, Electricity Restructuring, and Investment in Pollution Abatement            3.0   \n",
       "               Is a Donor in Hand Better than Two in the Bush? Evidence from a Natural Field Experiment       4.0   \n",
       "\n",
       "                                                                                                         volWoS  \\\n",
       "volField       volTitle                                                                                           \n",
       "Applied (gen.) A New Approach to Estimating the Production Function for Housing                              13   \n",
       "               A Theory of Optimal Random Crackdowns                                                          4   \n",
       "               Doing Well by Doing Good? Green Office Buildings                                              69   \n",
       "               Emissions Trading, Electricity Restructuring, and Investment in Pollution Abatement           29   \n",
       "               Is a Donor in Hand Better than Two in the Bush? Evidence from a Natural Field Experiment      18   \n",
       "\n",
       "                                                                                                         volTop200Econ  \\\n",
       "volField       volTitle                                                                                                  \n",
       "Applied (gen.) A New Approach to Estimating the Production Function for Housing                                   11.0   \n",
       "               A Theory of Optimal Random Crackdowns                                                               2.0   \n",
       "               Doing Well by Doing Good? Green Office Buildings                                                   18.0   \n",
       "               Emissions Trading, Electricity Restructuring, and Investment in Pollution Abatement                16.0   \n",
       "               Is a Donor in Hand Better than Two in the Bush? Evidence from a Natural Field Experiment           10.0   \n",
       "\n",
       "                                                                                                         volGScites  \\\n",
       "volField       volTitle                                                                                               \n",
       "Applied (gen.) A New Approach to Estimating the Production Function for Housing                                  74   \n",
       "               A Theory of Optimal Random Crackdowns                                                             41   \n",
       "               Doing Well by Doing Good? Green Office Buildings                                                 681   \n",
       "               Emissions Trading, Electricity Restructuring, and Investment in Pollution Abatement              113   \n",
       "               Is a Donor in Hand Better than Two in the Bush? Evidence from a Natural Field Experiment          72   \n",
       "\n",
       "                                                                                                         totalCites  \n",
       "volField       volTitle                                                                                              \n",
       "Applied (gen.) A New Approach to Estimating the Production Function for Housing                                98.0  \n",
       "               A Theory of Optimal Random Crackdowns                                                           47.0  \n",
       "               Doing Well by Doing Good? Green Office Buildings                                               768.0  \n",
       "               Emissions Trading, Electricity Restructuring, and Investment in Pollution Abatement            158.0  \n",
       "               Is a Donor in Hand Better than Two in the Bush? Evidence from a Natural Field Experiment       100.0  "
      ]
     },
     "execution_count": 23,
     "metadata": {},
     "output_type": "execute_result"
    }
   ],
   "source": [
    "volume = volume.reset_index().set_index(['volField', 'volTitle']).sort_index()  # This is called method chaining\n",
    "volume.head()"
   ]
  },
  {
   "cell_type": "code",
   "execution_count": 24,
   "metadata": {},
   "outputs": [
    {
     "data": {
      "text/html": [
       "<div>\n",
       "<style>\n",
       "    .dataframe thead tr:only-child th {\n",
       "        text-align: right;\n",
       "    }\n",
       "\n",
       "    .dataframe thead th {\n",
       "        text-align: left;\n",
       "    }\n",
       "\n",
       "    .dataframe tbody tr th {\n",
       "        vertical-align: top;\n",
       "    }\n",
       "</style>\n",
       "<table border=\"1\" class=\"dataframe\">\n",
       "  <thead>\n",
       "    <tr style=\"text-align: right;\">\n",
       "      <th></th>\n",
       "      <th>volID</th>\n",
       "      <th>volCoder</th>\n",
       "      <th>volWoS</th>\n",
       "      <th>volTop200Econ</th>\n",
       "      <th>volGScites</th>\n",
       "      <th>totalCites</th>\n",
       "    </tr>\n",
       "    <tr>\n",
       "      <th>volTitle</th>\n",
       "      <th></th>\n",
       "      <th></th>\n",
       "      <th></th>\n",
       "      <th></th>\n",
       "      <th></th>\n",
       "      <th></th>\n",
       "    </tr>\n",
       "  </thead>\n",
       "  <tbody>\n",
       "    <tr>\n",
       "      <th>Can Higher Prices Stimulate Product Use? Evidence from a Field Experiment in Zambia</th>\n",
       "      <td>97</td>\n",
       "      <td>1.0</td>\n",
       "      <td>44</td>\n",
       "      <td>21.0</td>\n",
       "      <td>265</td>\n",
       "      <td>330.0</td>\n",
       "    </tr>\n",
       "    <tr>\n",
       "      <th>Determinants of Redistributive Politics: An Empirical Analysis of Land Reforms in West Bengal, India</th>\n",
       "      <td>64</td>\n",
       "      <td>3.0</td>\n",
       "      <td>12</td>\n",
       "      <td>9.0</td>\n",
       "      <td>63</td>\n",
       "      <td>84.0</td>\n",
       "    </tr>\n",
       "    <tr>\n",
       "      <th>Inherited Trust and Growth</th>\n",
       "      <td>85</td>\n",
       "      <td>3.0</td>\n",
       "      <td>102</td>\n",
       "      <td>44.0</td>\n",
       "      <td>536</td>\n",
       "      <td>682.0</td>\n",
       "    </tr>\n",
       "    <tr>\n",
       "      <th>Learning about a New Technology: Pineapple in Ghana</th>\n",
       "      <td>2</td>\n",
       "      <td>3.0</td>\n",
       "      <td>176</td>\n",
       "      <td>108.0</td>\n",
       "      <td>1246</td>\n",
       "      <td>1530.0</td>\n",
       "    </tr>\n",
       "    <tr>\n",
       "      <th>Multinationals and Anti-Sweatshop Activism</th>\n",
       "      <td>9</td>\n",
       "      <td>4.0</td>\n",
       "      <td>21</td>\n",
       "      <td>8.0</td>\n",
       "      <td>134</td>\n",
       "      <td>163.0</td>\n",
       "    </tr>\n",
       "    <tr>\n",
       "      <th>Watta Satta: Bride Exchange and Women's Welfare in Rural Pakistan</th>\n",
       "      <td>73</td>\n",
       "      <td>3.0</td>\n",
       "      <td>6</td>\n",
       "      <td>4.0</td>\n",
       "      <td>37</td>\n",
       "      <td>47.0</td>\n",
       "    </tr>\n",
       "  </tbody>\n",
       "</table>\n",
       "</div>"
      ],
      "text/plain": [
       "                                                                                                      volID  \\\n",
       "volTitle                                                                                                      \n",
       "Can Higher Prices Stimulate Product Use? Evidence from a Field Experiment in Zambia                      97   \n",
       "Determinants of Redistributive Politics: An Empirical Analysis of Land Reforms in West Bengal, India     64   \n",
       "Inherited Trust and Growth                                                                               85   \n",
       "Learning about a New Technology: Pineapple in Ghana                                                       2   \n",
       "Multinationals and Anti-Sweatshop Activism                                                                9   \n",
       "Watta Satta: Bride Exchange and Women's Welfare in Rural Pakistan                                        73   \n",
       "\n",
       "                                                                                                      volCoder  \\\n",
       "volTitle                                                                                                         \n",
       "Can Higher Prices Stimulate Product Use? Evidence from a Field Experiment in Zambia                        1.0   \n",
       "Determinants of Redistributive Politics: An Empirical Analysis of Land Reforms in West Bengal, India       3.0   \n",
       "Inherited Trust and Growth                                                                                 3.0   \n",
       "Learning about a New Technology: Pineapple in Ghana                                                        3.0   \n",
       "Multinationals and Anti-Sweatshop Activism                                                                 4.0   \n",
       "Watta Satta: Bride Exchange and Women's Welfare in Rural Pakistan                                          3.0   \n",
       "\n",
       "                                                                                                      volWoS  \\\n",
       "volTitle                                                                                                       \n",
       "Can Higher Prices Stimulate Product Use? Evidence from a Field Experiment in Zambia                       44   \n",
       "Determinants of Redistributive Politics: An Empirical Analysis of Land Reforms in West Bengal, India      12   \n",
       "Inherited Trust and Growth                                                                               102   \n",
       "Learning about a New Technology: Pineapple in Ghana                                                      176   \n",
       "Multinationals and Anti-Sweatshop Activism                                                                21   \n",
       "Watta Satta: Bride Exchange and Women's Welfare in Rural Pakistan                                          6   \n",
       "\n",
       "                                                                                                      volTop200Econ  \\\n",
       "volTitle                                                                                                              \n",
       "Can Higher Prices Stimulate Product Use? Evidence from a Field Experiment in Zambia                            21.0   \n",
       "Determinants of Redistributive Politics: An Empirical Analysis of Land Reforms in West Bengal, India            9.0   \n",
       "Inherited Trust and Growth                                                                                     44.0   \n",
       "Learning about a New Technology: Pineapple in Ghana                                                           108.0   \n",
       "Multinationals and Anti-Sweatshop Activism                                                                      8.0   \n",
       "Watta Satta: Bride Exchange and Women's Welfare in Rural Pakistan                                               4.0   \n",
       "\n",
       "                                                                                                      volGScites  \\\n",
       "volTitle                                                                                                           \n",
       "Can Higher Prices Stimulate Product Use? Evidence from a Field Experiment in Zambia                          265   \n",
       "Determinants of Redistributive Politics: An Empirical Analysis of Land Reforms in West Bengal, India          63   \n",
       "Inherited Trust and Growth                                                                                   536   \n",
       "Learning about a New Technology: Pineapple in Ghana                                                         1246   \n",
       "Multinationals and Anti-Sweatshop Activism                                                                   134   \n",
       "Watta Satta: Bride Exchange and Women's Welfare in Rural Pakistan                                             37   \n",
       "\n",
       "                                                                                                      totalCites  \n",
       "volTitle                                                                                                          \n",
       "Can Higher Prices Stimulate Product Use? Evidence from a Field Experiment in Zambia                        330.0  \n",
       "Determinants of Redistributive Politics: An Empirical Analysis of Land Reforms in West Bengal, India        84.0  \n",
       "Inherited Trust and Growth                                                                                 682.0  \n",
       "Learning about a New Technology: Pineapple in Ghana                                                       1530.0  \n",
       "Multinationals and Anti-Sweatshop Activism                                                                 163.0  \n",
       "Watta Satta: Bride Exchange and Women's Welfare in Rural Pakistan                                           47.0  "
      ]
     },
     "execution_count": 24,
     "metadata": {},
     "output_type": "execute_result"
    }
   ],
   "source": [
    "volume.loc['Development']"
   ]
  },
  {
   "cell_type": "markdown",
   "metadata": {},
   "source": [
    "Alternatively, we can filter our dataframe using *boolean conditions*"
   ]
  },
  {
   "cell_type": "code",
   "execution_count": 25,
   "metadata": {},
   "outputs": [
    {
     "data": {
      "text/plain": [
       "0     False\n",
       "1     False\n",
       "2     False\n",
       "3     False\n",
       "4     False\n",
       "5     False\n",
       "6     False\n",
       "7      True\n",
       "8      True\n",
       "9      True\n",
       "10     True\n",
       "11     True\n",
       "12     True\n",
       "13    False\n",
       "14    False\n",
       "15    False\n",
       "16    False\n",
       "17    False\n",
       "18    False\n",
       "19    False\n",
       "20    False\n",
       "21    False\n",
       "22    False\n",
       "23    False\n",
       "24    False\n",
       "25    False\n",
       "26    False\n",
       "27    False\n",
       "28    False\n",
       "29    False\n",
       "      ...  \n",
       "40    False\n",
       "41    False\n",
       "42    False\n",
       "43    False\n",
       "44    False\n",
       "45    False\n",
       "46    False\n",
       "47    False\n",
       "48    False\n",
       "49    False\n",
       "50    False\n",
       "51    False\n",
       "52    False\n",
       "53    False\n",
       "54    False\n",
       "55    False\n",
       "56    False\n",
       "57    False\n",
       "58    False\n",
       "59    False\n",
       "60    False\n",
       "61    False\n",
       "62    False\n",
       "63    False\n",
       "64    False\n",
       "65    False\n",
       "66    False\n",
       "67    False\n",
       "68    False\n",
       "69    False\n",
       "Name: volField, Length: 70, dtype: bool"
      ]
     },
     "execution_count": 25,
     "metadata": {},
     "output_type": "execute_result"
    }
   ],
   "source": [
    "volume.reset_index(inplace=True)\n",
    "\n",
    "volume['volField'] == 'Development'"
   ]
  },
  {
   "cell_type": "markdown",
   "metadata": {},
   "source": [
    "Selecting rows with this boolean condition will return only rows of the dataframe where `volField == 'Development'` is `True`"
   ]
  },
  {
   "cell_type": "code",
   "execution_count": 26,
   "metadata": {},
   "outputs": [
    {
     "data": {
      "text/html": [
       "<div>\n",
       "<style>\n",
       "    .dataframe thead tr:only-child th {\n",
       "        text-align: right;\n",
       "    }\n",
       "\n",
       "    .dataframe thead th {\n",
       "        text-align: left;\n",
       "    }\n",
       "\n",
       "    .dataframe tbody tr th {\n",
       "        vertical-align: top;\n",
       "    }\n",
       "</style>\n",
       "<table border=\"1\" class=\"dataframe\">\n",
       "  <thead>\n",
       "    <tr style=\"text-align: right;\">\n",
       "      <th></th>\n",
       "      <th>volField</th>\n",
       "      <th>volTitle</th>\n",
       "      <th>volID</th>\n",
       "      <th>volCoder</th>\n",
       "      <th>volWoS</th>\n",
       "      <th>volTop200Econ</th>\n",
       "      <th>volGScites</th>\n",
       "      <th>totalCites</th>\n",
       "    </tr>\n",
       "  </thead>\n",
       "  <tbody>\n",
       "    <tr>\n",
       "      <th>7</th>\n",
       "      <td>Development</td>\n",
       "      <td>Can Higher Prices Stimulate Product Use? Evidence from a Field Experiment in Zambia</td>\n",
       "      <td>97</td>\n",
       "      <td>1.0</td>\n",
       "      <td>44</td>\n",
       "      <td>21.0</td>\n",
       "      <td>265</td>\n",
       "      <td>330.0</td>\n",
       "    </tr>\n",
       "    <tr>\n",
       "      <th>8</th>\n",
       "      <td>Development</td>\n",
       "      <td>Determinants of Redistributive Politics: An Empirical Analysis of Land Reforms in West Bengal, I...</td>\n",
       "      <td>64</td>\n",
       "      <td>3.0</td>\n",
       "      <td>12</td>\n",
       "      <td>9.0</td>\n",
       "      <td>63</td>\n",
       "      <td>84.0</td>\n",
       "    </tr>\n",
       "    <tr>\n",
       "      <th>9</th>\n",
       "      <td>Development</td>\n",
       "      <td>Inherited Trust and Growth</td>\n",
       "      <td>85</td>\n",
       "      <td>3.0</td>\n",
       "      <td>102</td>\n",
       "      <td>44.0</td>\n",
       "      <td>536</td>\n",
       "      <td>682.0</td>\n",
       "    </tr>\n",
       "    <tr>\n",
       "      <th>10</th>\n",
       "      <td>Development</td>\n",
       "      <td>Learning about a New Technology: Pineapple in Ghana</td>\n",
       "      <td>2</td>\n",
       "      <td>3.0</td>\n",
       "      <td>176</td>\n",
       "      <td>108.0</td>\n",
       "      <td>1246</td>\n",
       "      <td>1530.0</td>\n",
       "    </tr>\n",
       "    <tr>\n",
       "      <th>11</th>\n",
       "      <td>Development</td>\n",
       "      <td>Multinationals and Anti-Sweatshop Activism</td>\n",
       "      <td>9</td>\n",
       "      <td>4.0</td>\n",
       "      <td>21</td>\n",
       "      <td>8.0</td>\n",
       "      <td>134</td>\n",
       "      <td>163.0</td>\n",
       "    </tr>\n",
       "    <tr>\n",
       "      <th>12</th>\n",
       "      <td>Development</td>\n",
       "      <td>Watta Satta: Bride Exchange and Women's Welfare in Rural Pakistan</td>\n",
       "      <td>73</td>\n",
       "      <td>3.0</td>\n",
       "      <td>6</td>\n",
       "      <td>4.0</td>\n",
       "      <td>37</td>\n",
       "      <td>47.0</td>\n",
       "    </tr>\n",
       "  </tbody>\n",
       "</table>\n",
       "</div>"
      ],
      "text/plain": [
       "       volField  \\\n",
       "7   Development   \n",
       "8   Development   \n",
       "9   Development   \n",
       "10  Development   \n",
       "11  Development   \n",
       "12  Development   \n",
       "\n",
       "                                                                                               volTitle  \\\n",
       "7                   Can Higher Prices Stimulate Product Use? Evidence from a Field Experiment in Zambia   \n",
       "8   Determinants of Redistributive Politics: An Empirical Analysis of Land Reforms in West Bengal, I...   \n",
       "9                                                                            Inherited Trust and Growth   \n",
       "10                                                  Learning about a New Technology: Pineapple in Ghana   \n",
       "11                                                           Multinationals and Anti-Sweatshop Activism   \n",
       "12                                    Watta Satta: Bride Exchange and Women's Welfare in Rural Pakistan   \n",
       "\n",
       "    volID  volCoder  volWoS  volTop200Econ  volGScites  totalCites  \n",
       "7      97       1.0      44           21.0         265       330.0  \n",
       "8      64       3.0      12            9.0          63        84.0  \n",
       "9      85       3.0     102           44.0         536       682.0  \n",
       "10      2       3.0     176          108.0        1246      1530.0  \n",
       "11      9       4.0      21            8.0         134       163.0  \n",
       "12     73       3.0       6            4.0          37        47.0  "
      ]
     },
     "execution_count": 26,
     "metadata": {},
     "output_type": "execute_result"
    }
   ],
   "source": [
    "volume[volume['volField'] == 'Development']"
   ]
  },
  {
   "cell_type": "code",
   "execution_count": 27,
   "metadata": {},
   "outputs": [
    {
     "data": {
      "text/html": [
       "<div>\n",
       "<style>\n",
       "    .dataframe thead tr:only-child th {\n",
       "        text-align: right;\n",
       "    }\n",
       "\n",
       "    .dataframe thead th {\n",
       "        text-align: left;\n",
       "    }\n",
       "\n",
       "    .dataframe tbody tr th {\n",
       "        vertical-align: top;\n",
       "    }\n",
       "</style>\n",
       "<table border=\"1\" class=\"dataframe\">\n",
       "  <thead>\n",
       "    <tr style=\"text-align: right;\">\n",
       "      <th></th>\n",
       "      <th>volField</th>\n",
       "      <th>volTitle</th>\n",
       "      <th>volID</th>\n",
       "      <th>volCoder</th>\n",
       "      <th>volWoS</th>\n",
       "      <th>volTop200Econ</th>\n",
       "      <th>volGScites</th>\n",
       "      <th>totalCites</th>\n",
       "    </tr>\n",
       "  </thead>\n",
       "  <tbody>\n",
       "    <tr>\n",
       "      <th>9</th>\n",
       "      <td>Development</td>\n",
       "      <td>Inherited Trust and Growth</td>\n",
       "      <td>85</td>\n",
       "      <td>3.0</td>\n",
       "      <td>102</td>\n",
       "      <td>44.0</td>\n",
       "      <td>536</td>\n",
       "      <td>682.0</td>\n",
       "    </tr>\n",
       "    <tr>\n",
       "      <th>10</th>\n",
       "      <td>Development</td>\n",
       "      <td>Learning about a New Technology: Pineapple in Ghana</td>\n",
       "      <td>2</td>\n",
       "      <td>3.0</td>\n",
       "      <td>176</td>\n",
       "      <td>108.0</td>\n",
       "      <td>1246</td>\n",
       "      <td>1530.0</td>\n",
       "    </tr>\n",
       "  </tbody>\n",
       "</table>\n",
       "</div>"
      ],
      "text/plain": [
       "       volField                                             volTitle  volID  \\\n",
       "9   Development                           Inherited Trust and Growth     85   \n",
       "10  Development  Learning about a New Technology: Pineapple in Ghana      2   \n",
       "\n",
       "    volCoder  volWoS  volTop200Econ  volGScites  totalCites  \n",
       "9        3.0     102           44.0         536       682.0  \n",
       "10       3.0     176          108.0        1246      1530.0  "
      ]
     },
     "execution_count": 27,
     "metadata": {},
     "output_type": "execute_result"
    }
   ],
   "source": [
    "volume[(volume['volField'] == 'Development') & (volume['volWoS'] > 100)]"
   ]
  },
  {
   "cell_type": "markdown",
   "metadata": {},
   "source": [
    "### Exercises\n",
    "\n",
    "#### How many papers in the sample have over 100 Google Scholar citations?\n",
    "* Hint: use `len()` to find the length of a dataframe"
   ]
  },
  {
   "cell_type": "code",
   "execution_count": null,
   "metadata": {
    "collapsed": true
   },
   "outputs": [],
   "source": []
  },
  {
   "cell_type": "markdown",
   "metadata": {},
   "source": [
    "<button data-toggle=\"collapse\" data-target=\"#sol6\" class='btn btn-primary'>Solution</button>\n",
    "<div id=\"sol6\" class=\"collapse\">\n",
    "```python\n",
    "len(volume[volume['volGScites'] > 100])\n",
    "```\n",
    "```\n",
    "44\n",
    "```"
   ]
  },
  {
   "cell_type": "markdown",
   "metadata": {},
   "source": [
    "#### How many 'Labor/IO' papers have over 100 Google Scholar citations?"
   ]
  },
  {
   "cell_type": "code",
   "execution_count": null,
   "metadata": {
    "collapsed": true
   },
   "outputs": [],
   "source": []
  },
  {
   "cell_type": "markdown",
   "metadata": {},
   "source": [
    "<button data-toggle=\"collapse\" data-target=\"#sol7\" class='btn btn-primary'>Solution</button>\n",
    "<div id=\"sol7\" class=\"collapse\">\n",
    "```python\n",
    "len(volume[(volume['volGScites'] > 100) & (volume['volField'] == 'Labor/IO')])\n",
    "```\n",
    "```\n",
    "10\n",
    "```"
   ]
  },
  {
   "cell_type": "markdown",
   "metadata": {},
   "source": [
    "#### Of all development papers, which has the highest number of Google Scholar citations?"
   ]
  },
  {
   "cell_type": "code",
   "execution_count": null,
   "metadata": {
    "collapsed": true
   },
   "outputs": [],
   "source": []
  },
  {
   "cell_type": "markdown",
   "metadata": {},
   "source": [
    "<button data-toggle=\"collapse\" data-target=\"#sol8\" class='btn btn-primary'>Solution</button>\n",
    "<div id=\"sol8\" class=\"collapse\">\n",
    "```python\n",
    "volume[volume['volField'] == 'Development'].sort_values(by='volGScites', ascending=False)[:1]\n",
    "```\n",
    "```\n",
    "Learning about a New Technology: Pineapple in Ghana\n",
    "```"
   ]
  },
  {
   "cell_type": "markdown",
   "metadata": {},
   "source": [
    "## Grouping and aggregating data"
   ]
  },
  {
   "cell_type": "markdown",
   "metadata": {},
   "source": [
    "We might want to summarize our data by grouping it by fields\n",
    "\n",
    "To do this, we will use the `.groupby()` function"
   ]
  },
  {
   "cell_type": "code",
   "execution_count": 28,
   "metadata": {},
   "outputs": [
    {
     "data": {
      "text/plain": [
       "<pandas.core.groupby.DataFrameGroupBy object at 0x112c4e9e8>"
      ]
     },
     "execution_count": 28,
     "metadata": {},
     "output_type": "execute_result"
    }
   ],
   "source": [
    "volume.reset_index(inplace=True)\n",
    "\n",
    "grouped = volume.groupby('volField')\n",
    "grouped"
   ]
  },
  {
   "cell_type": "code",
   "execution_count": 29,
   "metadata": {},
   "outputs": [
    {
     "data": {
      "text/plain": [
       "{'Applied (gen.)': Int64Index([0, 1, 2, 3, 4, 5, 6], dtype='int64'),\n",
       " 'Behavioral/Exp.': Int64Index([26, 27, 28, 29, 30, 31, 32, 33, 34, 35, 36, 37, 38, 39, 40, 41, 42,\n",
       "             43, 44],\n",
       "            dtype='int64'),\n",
       " 'Development': Int64Index([7, 8, 9, 10, 11, 12], dtype='int64'),\n",
       " 'Labor/IO': Int64Index([13, 14, 15, 16, 17, 18, 19, 20, 21, 22, 23, 24, 25], dtype='int64'),\n",
       " 'Macro/Int/Trade': Int64Index([45, 46, 47, 48, 49, 50, 51, 52, 53, 54, 55, 56, 57, 58, 59, 60, 61,\n",
       "             62, 63, 64, 65, 66, 67, 68, 69],\n",
       "            dtype='int64')}"
      ]
     },
     "execution_count": 29,
     "metadata": {},
     "output_type": "execute_result"
    }
   ],
   "source": [
    "grouped.groups"
   ]
  },
  {
   "cell_type": "code",
   "execution_count": 30,
   "metadata": {},
   "outputs": [
    {
     "data": {
      "text/plain": [
       "dict_keys(['Applied (gen.)', 'Development', 'Labor/IO', 'Behavioral/Exp.', 'Macro/Int/Trade'])"
      ]
     },
     "execution_count": 30,
     "metadata": {},
     "output_type": "execute_result"
    }
   ],
   "source": [
    "grouped.groups.keys()"
   ]
  },
  {
   "cell_type": "code",
   "execution_count": 31,
   "metadata": {
    "scrolled": true
   },
   "outputs": [
    {
     "data": {
      "text/html": [
       "<div>\n",
       "<style>\n",
       "    .dataframe thead tr:only-child th {\n",
       "        text-align: right;\n",
       "    }\n",
       "\n",
       "    .dataframe thead th {\n",
       "        text-align: left;\n",
       "    }\n",
       "\n",
       "    .dataframe tbody tr th {\n",
       "        vertical-align: top;\n",
       "    }\n",
       "</style>\n",
       "<table border=\"1\" class=\"dataframe\">\n",
       "  <thead>\n",
       "    <tr style=\"text-align: right;\">\n",
       "      <th></th>\n",
       "      <th>index</th>\n",
       "      <th>volField</th>\n",
       "      <th>volTitle</th>\n",
       "      <th>volID</th>\n",
       "      <th>volCoder</th>\n",
       "      <th>volWoS</th>\n",
       "      <th>volTop200Econ</th>\n",
       "      <th>volGScites</th>\n",
       "      <th>totalCites</th>\n",
       "    </tr>\n",
       "  </thead>\n",
       "  <tbody>\n",
       "    <tr>\n",
       "      <th>7</th>\n",
       "      <td>7</td>\n",
       "      <td>Development</td>\n",
       "      <td>Can Higher Prices Stimulate Product Use? Evidence from a Field Experiment in Zambia</td>\n",
       "      <td>97</td>\n",
       "      <td>1.0</td>\n",
       "      <td>44</td>\n",
       "      <td>21.0</td>\n",
       "      <td>265</td>\n",
       "      <td>330.0</td>\n",
       "    </tr>\n",
       "    <tr>\n",
       "      <th>8</th>\n",
       "      <td>8</td>\n",
       "      <td>Development</td>\n",
       "      <td>Determinants of Redistributive Politics: An Empirical Analysis of Land Reforms in West Bengal, I...</td>\n",
       "      <td>64</td>\n",
       "      <td>3.0</td>\n",
       "      <td>12</td>\n",
       "      <td>9.0</td>\n",
       "      <td>63</td>\n",
       "      <td>84.0</td>\n",
       "    </tr>\n",
       "    <tr>\n",
       "      <th>9</th>\n",
       "      <td>9</td>\n",
       "      <td>Development</td>\n",
       "      <td>Inherited Trust and Growth</td>\n",
       "      <td>85</td>\n",
       "      <td>3.0</td>\n",
       "      <td>102</td>\n",
       "      <td>44.0</td>\n",
       "      <td>536</td>\n",
       "      <td>682.0</td>\n",
       "    </tr>\n",
       "    <tr>\n",
       "      <th>10</th>\n",
       "      <td>10</td>\n",
       "      <td>Development</td>\n",
       "      <td>Learning about a New Technology: Pineapple in Ghana</td>\n",
       "      <td>2</td>\n",
       "      <td>3.0</td>\n",
       "      <td>176</td>\n",
       "      <td>108.0</td>\n",
       "      <td>1246</td>\n",
       "      <td>1530.0</td>\n",
       "    </tr>\n",
       "    <tr>\n",
       "      <th>11</th>\n",
       "      <td>11</td>\n",
       "      <td>Development</td>\n",
       "      <td>Multinationals and Anti-Sweatshop Activism</td>\n",
       "      <td>9</td>\n",
       "      <td>4.0</td>\n",
       "      <td>21</td>\n",
       "      <td>8.0</td>\n",
       "      <td>134</td>\n",
       "      <td>163.0</td>\n",
       "    </tr>\n",
       "    <tr>\n",
       "      <th>12</th>\n",
       "      <td>12</td>\n",
       "      <td>Development</td>\n",
       "      <td>Watta Satta: Bride Exchange and Women's Welfare in Rural Pakistan</td>\n",
       "      <td>73</td>\n",
       "      <td>3.0</td>\n",
       "      <td>6</td>\n",
       "      <td>4.0</td>\n",
       "      <td>37</td>\n",
       "      <td>47.0</td>\n",
       "    </tr>\n",
       "  </tbody>\n",
       "</table>\n",
       "</div>"
      ],
      "text/plain": [
       "    index     volField  \\\n",
       "7       7  Development   \n",
       "8       8  Development   \n",
       "9       9  Development   \n",
       "10     10  Development   \n",
       "11     11  Development   \n",
       "12     12  Development   \n",
       "\n",
       "                                                                                               volTitle  \\\n",
       "7                   Can Higher Prices Stimulate Product Use? Evidence from a Field Experiment in Zambia   \n",
       "8   Determinants of Redistributive Politics: An Empirical Analysis of Land Reforms in West Bengal, I...   \n",
       "9                                                                            Inherited Trust and Growth   \n",
       "10                                                  Learning about a New Technology: Pineapple in Ghana   \n",
       "11                                                           Multinationals and Anti-Sweatshop Activism   \n",
       "12                                    Watta Satta: Bride Exchange and Women's Welfare in Rural Pakistan   \n",
       "\n",
       "    volID  volCoder  volWoS  volTop200Econ  volGScites  totalCites  \n",
       "7      97       1.0      44           21.0         265       330.0  \n",
       "8      64       3.0      12            9.0          63        84.0  \n",
       "9      85       3.0     102           44.0         536       682.0  \n",
       "10      2       3.0     176          108.0        1246      1530.0  \n",
       "11      9       4.0      21            8.0         134       163.0  \n",
       "12     73       3.0       6            4.0          37        47.0  "
      ]
     },
     "execution_count": 31,
     "metadata": {},
     "output_type": "execute_result"
    }
   ],
   "source": [
    "grouped.get_group('Development')"
   ]
  },
  {
   "cell_type": "markdown",
   "metadata": {},
   "source": [
    "To return an *aggregated* dataframe, we need to specify the function we would like pandas to use to aggregate our groups"
   ]
  },
  {
   "cell_type": "code",
   "execution_count": 32,
   "metadata": {},
   "outputs": [
    {
     "data": {
      "text/html": [
       "<div>\n",
       "<style>\n",
       "    .dataframe thead tr:only-child th {\n",
       "        text-align: right;\n",
       "    }\n",
       "\n",
       "    .dataframe thead th {\n",
       "        text-align: left;\n",
       "    }\n",
       "\n",
       "    .dataframe tbody tr th {\n",
       "        vertical-align: top;\n",
       "    }\n",
       "</style>\n",
       "<table border=\"1\" class=\"dataframe\">\n",
       "  <thead>\n",
       "    <tr style=\"text-align: right;\">\n",
       "      <th></th>\n",
       "      <th>index</th>\n",
       "      <th>volID</th>\n",
       "      <th>volCoder</th>\n",
       "      <th>volWoS</th>\n",
       "      <th>volTop200Econ</th>\n",
       "      <th>volGScites</th>\n",
       "      <th>totalCites</th>\n",
       "    </tr>\n",
       "    <tr>\n",
       "      <th>volField</th>\n",
       "      <th></th>\n",
       "      <th></th>\n",
       "      <th></th>\n",
       "      <th></th>\n",
       "      <th></th>\n",
       "      <th></th>\n",
       "      <th></th>\n",
       "    </tr>\n",
       "  </thead>\n",
       "  <tbody>\n",
       "    <tr>\n",
       "      <th>Applied (gen.)</th>\n",
       "      <td>3.0</td>\n",
       "      <td>49.285714</td>\n",
       "      <td>3.857143</td>\n",
       "      <td>33.428571</td>\n",
       "      <td>13.142857</td>\n",
       "      <td>199.714286</td>\n",
       "      <td>246.285714</td>\n",
       "    </tr>\n",
       "    <tr>\n",
       "      <th>Development</th>\n",
       "      <td>9.5</td>\n",
       "      <td>55.000000</td>\n",
       "      <td>2.833333</td>\n",
       "      <td>60.166667</td>\n",
       "      <td>32.333333</td>\n",
       "      <td>380.166667</td>\n",
       "      <td>472.666667</td>\n",
       "    </tr>\n",
       "    <tr>\n",
       "      <th>Labor/IO</th>\n",
       "      <td>19.0</td>\n",
       "      <td>35.923077</td>\n",
       "      <td>4.230769</td>\n",
       "      <td>46.384615</td>\n",
       "      <td>26.461538</td>\n",
       "      <td>254.384615</td>\n",
       "      <td>327.230769</td>\n",
       "    </tr>\n",
       "    <tr>\n",
       "      <th>Behavioral/Exp.</th>\n",
       "      <td>35.0</td>\n",
       "      <td>65.000000</td>\n",
       "      <td>1.947368</td>\n",
       "      <td>48.842105</td>\n",
       "      <td>24.000000</td>\n",
       "      <td>202.789474</td>\n",
       "      <td>275.631579</td>\n",
       "    </tr>\n",
       "    <tr>\n",
       "      <th>Macro/Int/Trade</th>\n",
       "      <td>57.0</td>\n",
       "      <td>51.880000</td>\n",
       "      <td>2.760000</td>\n",
       "      <td>32.760000</td>\n",
       "      <td>18.880000</td>\n",
       "      <td>203.640000</td>\n",
       "      <td>255.280000</td>\n",
       "    </tr>\n",
       "  </tbody>\n",
       "</table>\n",
       "</div>"
      ],
      "text/plain": [
       "                 index      volID  volCoder     volWoS  volTop200Econ  \\\n",
       "volField                                                                \n",
       "Applied (gen.)     3.0  49.285714  3.857143  33.428571      13.142857   \n",
       "Development        9.5  55.000000  2.833333  60.166667      32.333333   \n",
       "Labor/IO          19.0  35.923077  4.230769  46.384615      26.461538   \n",
       "Behavioral/Exp.   35.0  65.000000  1.947368  48.842105      24.000000   \n",
       "Macro/Int/Trade   57.0  51.880000  2.760000  32.760000      18.880000   \n",
       "\n",
       "                 volGScites  totalCites  \n",
       "volField                                 \n",
       "Applied (gen.)   199.714286  246.285714  \n",
       "Development      380.166667  472.666667  \n",
       "Labor/IO         254.384615  327.230769  \n",
       "Behavioral/Exp.  202.789474  275.631579  \n",
       "Macro/Int/Trade  203.640000  255.280000  "
      ]
     },
     "execution_count": 32,
     "metadata": {},
     "output_type": "execute_result"
    }
   ],
   "source": [
    "grouped.mean()"
   ]
  },
  {
   "cell_type": "code",
   "execution_count": 33,
   "metadata": {},
   "outputs": [
    {
     "data": {
      "text/html": [
       "<div>\n",
       "<style>\n",
       "    .dataframe thead tr:only-child th {\n",
       "        text-align: right;\n",
       "    }\n",
       "\n",
       "    .dataframe thead th {\n",
       "        text-align: left;\n",
       "    }\n",
       "\n",
       "    .dataframe tbody tr th {\n",
       "        vertical-align: top;\n",
       "    }\n",
       "</style>\n",
       "<table border=\"1\" class=\"dataframe\">\n",
       "  <thead>\n",
       "    <tr style=\"text-align: right;\">\n",
       "      <th></th>\n",
       "      <th>count</th>\n",
       "      <th>mean</th>\n",
       "      <th>std</th>\n",
       "      <th>min</th>\n",
       "      <th>25%</th>\n",
       "      <th>50%</th>\n",
       "      <th>75%</th>\n",
       "      <th>max</th>\n",
       "    </tr>\n",
       "    <tr>\n",
       "      <th>volField</th>\n",
       "      <th></th>\n",
       "      <th></th>\n",
       "      <th></th>\n",
       "      <th></th>\n",
       "      <th></th>\n",
       "      <th></th>\n",
       "      <th></th>\n",
       "      <th></th>\n",
       "    </tr>\n",
       "  </thead>\n",
       "  <tbody>\n",
       "    <tr>\n",
       "      <th>Applied (gen.)</th>\n",
       "      <td>7.0</td>\n",
       "      <td>33.428571</td>\n",
       "      <td>25.395913</td>\n",
       "      <td>4.0</td>\n",
       "      <td>15.50</td>\n",
       "      <td>29.0</td>\n",
       "      <td>50.5</td>\n",
       "      <td>69.0</td>\n",
       "    </tr>\n",
       "    <tr>\n",
       "      <th>Development</th>\n",
       "      <td>6.0</td>\n",
       "      <td>60.166667</td>\n",
       "      <td>66.658583</td>\n",
       "      <td>6.0</td>\n",
       "      <td>14.25</td>\n",
       "      <td>32.5</td>\n",
       "      <td>87.5</td>\n",
       "      <td>176.0</td>\n",
       "    </tr>\n",
       "    <tr>\n",
       "      <th>Labor/IO</th>\n",
       "      <td>13.0</td>\n",
       "      <td>46.384615</td>\n",
       "      <td>40.042766</td>\n",
       "      <td>7.0</td>\n",
       "      <td>23.00</td>\n",
       "      <td>30.0</td>\n",
       "      <td>55.0</td>\n",
       "      <td>141.0</td>\n",
       "    </tr>\n",
       "    <tr>\n",
       "      <th>Behavioral/Exp.</th>\n",
       "      <td>19.0</td>\n",
       "      <td>48.842105</td>\n",
       "      <td>50.839905</td>\n",
       "      <td>1.0</td>\n",
       "      <td>16.50</td>\n",
       "      <td>29.0</td>\n",
       "      <td>53.5</td>\n",
       "      <td>195.0</td>\n",
       "    </tr>\n",
       "    <tr>\n",
       "      <th>Macro/Int/Trade</th>\n",
       "      <td>25.0</td>\n",
       "      <td>32.760000</td>\n",
       "      <td>35.578880</td>\n",
       "      <td>1.0</td>\n",
       "      <td>18.00</td>\n",
       "      <td>22.0</td>\n",
       "      <td>36.0</td>\n",
       "      <td>173.0</td>\n",
       "    </tr>\n",
       "  </tbody>\n",
       "</table>\n",
       "</div>"
      ],
      "text/plain": [
       "                 count       mean        std  min    25%   50%   75%    max\n",
       "volField                                                                   \n",
       "Applied (gen.)     7.0  33.428571  25.395913  4.0  15.50  29.0  50.5   69.0\n",
       "Development        6.0  60.166667  66.658583  6.0  14.25  32.5  87.5  176.0\n",
       "Labor/IO          13.0  46.384615  40.042766  7.0  23.00  30.0  55.0  141.0\n",
       "Behavioral/Exp.   19.0  48.842105  50.839905  1.0  16.50  29.0  53.5  195.0\n",
       "Macro/Int/Trade   25.0  32.760000  35.578880  1.0  18.00  22.0  36.0  173.0"
      ]
     },
     "execution_count": 33,
     "metadata": {},
     "output_type": "execute_result"
    }
   ],
   "source": [
    "grouped['volWoS'].describe()"
   ]
  },
  {
   "cell_type": "code",
   "execution_count": 34,
   "metadata": {},
   "outputs": [
    {
     "data": {
      "text/html": [
       "<div>\n",
       "<style>\n",
       "    .dataframe thead tr:only-child th {\n",
       "        text-align: right;\n",
       "    }\n",
       "\n",
       "    .dataframe thead th {\n",
       "        text-align: left;\n",
       "    }\n",
       "\n",
       "    .dataframe tbody tr th {\n",
       "        vertical-align: top;\n",
       "    }\n",
       "</style>\n",
       "<table border=\"1\" class=\"dataframe\">\n",
       "  <thead>\n",
       "    <tr style=\"text-align: right;\">\n",
       "      <th></th>\n",
       "      <th>mean</th>\n",
       "      <th>median</th>\n",
       "      <th>sum</th>\n",
       "    </tr>\n",
       "    <tr>\n",
       "      <th>volField</th>\n",
       "      <th></th>\n",
       "      <th></th>\n",
       "      <th></th>\n",
       "    </tr>\n",
       "  </thead>\n",
       "  <tbody>\n",
       "    <tr>\n",
       "      <th>Applied (gen.)</th>\n",
       "      <td>33.428571</td>\n",
       "      <td>29.0</td>\n",
       "      <td>234</td>\n",
       "    </tr>\n",
       "    <tr>\n",
       "      <th>Development</th>\n",
       "      <td>60.166667</td>\n",
       "      <td>32.5</td>\n",
       "      <td>361</td>\n",
       "    </tr>\n",
       "    <tr>\n",
       "      <th>Labor/IO</th>\n",
       "      <td>46.384615</td>\n",
       "      <td>30.0</td>\n",
       "      <td>603</td>\n",
       "    </tr>\n",
       "    <tr>\n",
       "      <th>Behavioral/Exp.</th>\n",
       "      <td>48.842105</td>\n",
       "      <td>29.0</td>\n",
       "      <td>928</td>\n",
       "    </tr>\n",
       "    <tr>\n",
       "      <th>Macro/Int/Trade</th>\n",
       "      <td>32.760000</td>\n",
       "      <td>22.0</td>\n",
       "      <td>819</td>\n",
       "    </tr>\n",
       "  </tbody>\n",
       "</table>\n",
       "</div>"
      ],
      "text/plain": [
       "                      mean  median  sum\n",
       "volField                               \n",
       "Applied (gen.)   33.428571    29.0  234\n",
       "Development      60.166667    32.5  361\n",
       "Labor/IO         46.384615    30.0  603\n",
       "Behavioral/Exp.  48.842105    29.0  928\n",
       "Macro/Int/Trade  32.760000    22.0  819"
      ]
     },
     "execution_count": 34,
     "metadata": {},
     "output_type": "execute_result"
    }
   ],
   "source": [
    "grouped['volWoS'].agg(['mean', 'median', 'sum'])"
   ]
  },
  {
   "cell_type": "markdown",
   "metadata": {},
   "source": [
    "A list of built-in aggregate functions can be found [here](http://pandas.pydata.org/pandas-docs/stable/basics.html#descriptive-statistics)"
   ]
  },
  {
   "cell_type": "markdown",
   "metadata": {},
   "source": [
    "### Exercise\n",
    "\n",
    "#### Return the mean of Google Scholar citations for each field and sort from highest to lowest"
   ]
  },
  {
   "cell_type": "code",
   "execution_count": null,
   "metadata": {
    "collapsed": true
   },
   "outputs": [],
   "source": []
  },
  {
   "cell_type": "markdown",
   "metadata": {},
   "source": [
    "<button data-toggle=\"collapse\" data-target=\"#sol9\" class='btn btn-primary'>Solution</button>\n",
    "<div id=\"sol9\" class=\"collapse\">\n",
    "```python\n",
    "grouped['volGScites'].mean().sort_values(ascending=False)\n",
    "```\n",
    "```\n",
    "volField\n",
    "Development        380.166667\n",
    "Labor/IO           254.384615\n",
    "Macro/Int/Trade    203.640000\n",
    "Behavioral/Exp.    202.789474\n",
    "Applied (gen.)     199.714286\n",
    "Name: volGScites, dtype: float64\n",
    "```"
   ]
  },
  {
   "cell_type": "markdown",
   "metadata": {},
   "source": [
    "## Merging datasets"
   ]
  },
  {
   "cell_type": "markdown",
   "metadata": {},
   "source": [
    "So far, we have not talked about *replication* of papers\n",
    "\n",
    "This data is located in a different Stata file, which we will load in and assign to the variable `cites`\n",
    "\n",
    "`cites` contains data on each citation of a paper in the `volume` dataframe\n",
    "\n",
    "We are interested in the indicator variables, 'replication' and 'extension'"
   ]
  },
  {
   "cell_type": "code",
   "execution_count": 35,
   "metadata": {},
   "outputs": [
    {
     "data": {
      "text/html": [
       "<div>\n",
       "<style>\n",
       "    .dataframe thead tr:only-child th {\n",
       "        text-align: right;\n",
       "    }\n",
       "\n",
       "    .dataframe thead th {\n",
       "        text-align: left;\n",
       "    }\n",
       "\n",
       "    .dataframe tbody tr th {\n",
       "        vertical-align: top;\n",
       "    }\n",
       "</style>\n",
       "<table border=\"1\" class=\"dataframe\">\n",
       "  <thead>\n",
       "    <tr style=\"text-align: right;\">\n",
       "      <th></th>\n",
       "      <th>volID</th>\n",
       "      <th>paperID</th>\n",
       "      <th>volCoder</th>\n",
       "      <th>replication</th>\n",
       "      <th>extension</th>\n",
       "      <th>cField</th>\n",
       "      <th>sameSpec</th>\n",
       "      <th>samePop</th>\n",
       "      <th>sameSample</th>\n",
       "      <th>timesCited</th>\n",
       "      <th>commonAuthor</th>\n",
       "      <th>year</th>\n",
       "      <th>widerScope</th>\n",
       "      <th>frameRep</th>\n",
       "    </tr>\n",
       "  </thead>\n",
       "  <tbody>\n",
       "    <tr>\n",
       "      <th>0</th>\n",
       "      <td>2</td>\n",
       "      <td>25</td>\n",
       "      <td>3.0</td>\n",
       "      <td>0.0</td>\n",
       "      <td>0.0</td>\n",
       "      <td>Labor/IO</td>\n",
       "      <td>0.0</td>\n",
       "      <td>0.0</td>\n",
       "      <td>0.0</td>\n",
       "      <td>2.0</td>\n",
       "      <td>0.0</td>\n",
       "      <td>2012.0</td>\n",
       "      <td>NaN</td>\n",
       "      <td>0.0</td>\n",
       "    </tr>\n",
       "    <tr>\n",
       "      <th>1</th>\n",
       "      <td>2</td>\n",
       "      <td>65</td>\n",
       "      <td>3.0</td>\n",
       "      <td>0.0</td>\n",
       "      <td>0.0</td>\n",
       "      <td>Applied (gen.)</td>\n",
       "      <td>0.0</td>\n",
       "      <td>0.0</td>\n",
       "      <td>0.0</td>\n",
       "      <td>1.0</td>\n",
       "      <td>0.0</td>\n",
       "      <td>2015.0</td>\n",
       "      <td>NaN</td>\n",
       "      <td>0.0</td>\n",
       "    </tr>\n",
       "    <tr>\n",
       "      <th>2</th>\n",
       "      <td>2</td>\n",
       "      <td>69</td>\n",
       "      <td>3.0</td>\n",
       "      <td>0.0</td>\n",
       "      <td>0.0</td>\n",
       "      <td>Development</td>\n",
       "      <td>0.0</td>\n",
       "      <td>0.0</td>\n",
       "      <td>0.0</td>\n",
       "      <td>1.0</td>\n",
       "      <td>0.0</td>\n",
       "      <td>2013.0</td>\n",
       "      <td>NaN</td>\n",
       "      <td>0.0</td>\n",
       "    </tr>\n",
       "    <tr>\n",
       "      <th>3</th>\n",
       "      <td>2</td>\n",
       "      <td>127</td>\n",
       "      <td>3.0</td>\n",
       "      <td>0.0</td>\n",
       "      <td>0.0</td>\n",
       "      <td>Theory</td>\n",
       "      <td>0.0</td>\n",
       "      <td>0.0</td>\n",
       "      <td>0.0</td>\n",
       "      <td>2.0</td>\n",
       "      <td>0.0</td>\n",
       "      <td>2011.0</td>\n",
       "      <td>NaN</td>\n",
       "      <td>0.0</td>\n",
       "    </tr>\n",
       "    <tr>\n",
       "      <th>4</th>\n",
       "      <td>2</td>\n",
       "      <td>135</td>\n",
       "      <td>3.0</td>\n",
       "      <td>0.0</td>\n",
       "      <td>0.0</td>\n",
       "      <td>Applied (gen.)</td>\n",
       "      <td>0.0</td>\n",
       "      <td>0.0</td>\n",
       "      <td>0.0</td>\n",
       "      <td>1.0</td>\n",
       "      <td>0.0</td>\n",
       "      <td>2012.0</td>\n",
       "      <td>NaN</td>\n",
       "      <td>0.0</td>\n",
       "    </tr>\n",
       "  </tbody>\n",
       "</table>\n",
       "</div>"
      ],
      "text/plain": [
       "   volID  paperID  volCoder  replication  extension          cField  sameSpec  \\\n",
       "0      2       25       3.0          0.0        0.0        Labor/IO       0.0   \n",
       "1      2       65       3.0          0.0        0.0  Applied (gen.)       0.0   \n",
       "2      2       69       3.0          0.0        0.0     Development       0.0   \n",
       "3      2      127       3.0          0.0        0.0          Theory       0.0   \n",
       "4      2      135       3.0          0.0        0.0  Applied (gen.)       0.0   \n",
       "\n",
       "   samePop  sameSample  timesCited  commonAuthor    year  widerScope  frameRep  \n",
       "0      0.0         0.0         2.0           0.0  2012.0         NaN       0.0  \n",
       "1      0.0         0.0         1.0           0.0  2015.0         NaN       0.0  \n",
       "2      0.0         0.0         1.0           0.0  2013.0         NaN       0.0  \n",
       "3      0.0         0.0         2.0           0.0  2011.0         NaN       0.0  \n",
       "4      0.0         0.0         1.0           0.0  2012.0         NaN       0.0  "
      ]
     },
     "execution_count": 35,
     "metadata": {},
     "output_type": "execute_result"
    }
   ],
   "source": [
    "cites = pd.read_stata('./data/AssessingCodedData.dta')\n",
    "cites.head()"
   ]
  },
  {
   "cell_type": "markdown",
   "metadata": {},
   "source": [
    "We want to add this data to our original dataframe\n",
    "\n",
    "To do this, we will group `cites` by `volID`, which is a unique identifier for the original 70 empirical papers\n",
    "\n",
    "We will aggregate using `.sum()` to find the total number of replications and extensions for each of the 70 papers"
   ]
  },
  {
   "cell_type": "code",
   "execution_count": 36,
   "metadata": {},
   "outputs": [
    {
     "data": {
      "text/html": [
       "<div>\n",
       "<style>\n",
       "    .dataframe thead tr:only-child th {\n",
       "        text-align: right;\n",
       "    }\n",
       "\n",
       "    .dataframe thead th {\n",
       "        text-align: left;\n",
       "    }\n",
       "\n",
       "    .dataframe tbody tr th {\n",
       "        vertical-align: top;\n",
       "    }\n",
       "</style>\n",
       "<table border=\"1\" class=\"dataframe\">\n",
       "  <thead>\n",
       "    <tr style=\"text-align: right;\">\n",
       "      <th></th>\n",
       "      <th>replication</th>\n",
       "      <th>extension</th>\n",
       "    </tr>\n",
       "    <tr>\n",
       "      <th>volID</th>\n",
       "      <th></th>\n",
       "      <th></th>\n",
       "    </tr>\n",
       "  </thead>\n",
       "  <tbody>\n",
       "    <tr>\n",
       "      <th>2</th>\n",
       "      <td>1.0</td>\n",
       "      <td>10.0</td>\n",
       "    </tr>\n",
       "    <tr>\n",
       "      <th>3</th>\n",
       "      <td>1.0</td>\n",
       "      <td>2.0</td>\n",
       "    </tr>\n",
       "    <tr>\n",
       "      <th>4</th>\n",
       "      <td>2.0</td>\n",
       "      <td>0.0</td>\n",
       "    </tr>\n",
       "    <tr>\n",
       "      <th>5</th>\n",
       "      <td>0.0</td>\n",
       "      <td>5.0</td>\n",
       "    </tr>\n",
       "    <tr>\n",
       "      <th>6</th>\n",
       "      <td>0.0</td>\n",
       "      <td>0.0</td>\n",
       "    </tr>\n",
       "  </tbody>\n",
       "</table>\n",
       "</div>"
      ],
      "text/plain": [
       "       replication  extension\n",
       "volID                        \n",
       "2              1.0       10.0\n",
       "3              1.0        2.0\n",
       "4              2.0        0.0\n",
       "5              0.0        5.0\n",
       "6              0.0        0.0"
      ]
     },
     "execution_count": 36,
     "metadata": {},
     "output_type": "execute_result"
    }
   ],
   "source": [
    "volumes_cites = cites[['volID', 'replication', 'extension']].groupby('volID').sum()\n",
    "volumes_cites.head()"
   ]
  },
  {
   "cell_type": "markdown",
   "metadata": {},
   "source": [
    "We will also add a new column that sums total replications and extensions"
   ]
  },
  {
   "cell_type": "code",
   "execution_count": 37,
   "metadata": {},
   "outputs": [
    {
     "data": {
      "text/html": [
       "<div>\n",
       "<style>\n",
       "    .dataframe thead tr:only-child th {\n",
       "        text-align: right;\n",
       "    }\n",
       "\n",
       "    .dataframe thead th {\n",
       "        text-align: left;\n",
       "    }\n",
       "\n",
       "    .dataframe tbody tr th {\n",
       "        vertical-align: top;\n",
       "    }\n",
       "</style>\n",
       "<table border=\"1\" class=\"dataframe\">\n",
       "  <thead>\n",
       "    <tr style=\"text-align: right;\">\n",
       "      <th></th>\n",
       "      <th>replication</th>\n",
       "      <th>extension</th>\n",
       "      <th>either</th>\n",
       "    </tr>\n",
       "    <tr>\n",
       "      <th>volID</th>\n",
       "      <th></th>\n",
       "      <th></th>\n",
       "      <th></th>\n",
       "    </tr>\n",
       "  </thead>\n",
       "  <tbody>\n",
       "    <tr>\n",
       "      <th>2</th>\n",
       "      <td>1.0</td>\n",
       "      <td>10.0</td>\n",
       "      <td>11.0</td>\n",
       "    </tr>\n",
       "    <tr>\n",
       "      <th>3</th>\n",
       "      <td>1.0</td>\n",
       "      <td>2.0</td>\n",
       "      <td>3.0</td>\n",
       "    </tr>\n",
       "    <tr>\n",
       "      <th>4</th>\n",
       "      <td>2.0</td>\n",
       "      <td>0.0</td>\n",
       "      <td>2.0</td>\n",
       "    </tr>\n",
       "    <tr>\n",
       "      <th>5</th>\n",
       "      <td>0.0</td>\n",
       "      <td>5.0</td>\n",
       "      <td>5.0</td>\n",
       "    </tr>\n",
       "    <tr>\n",
       "      <th>6</th>\n",
       "      <td>0.0</td>\n",
       "      <td>0.0</td>\n",
       "      <td>0.0</td>\n",
       "    </tr>\n",
       "  </tbody>\n",
       "</table>\n",
       "</div>"
      ],
      "text/plain": [
       "       replication  extension  either\n",
       "volID                                \n",
       "2              1.0       10.0    11.0\n",
       "3              1.0        2.0     3.0\n",
       "4              2.0        0.0     2.0\n",
       "5              0.0        5.0     5.0\n",
       "6              0.0        0.0     0.0"
      ]
     },
     "execution_count": 37,
     "metadata": {},
     "output_type": "execute_result"
    }
   ],
   "source": [
    "volumes_cites['either'] = volumes_cites['replication'] + volumes_cites['extension']\n",
    "volumes_cites.head()"
   ]
  },
  {
   "cell_type": "markdown",
   "metadata": {},
   "source": [
    "To combine this data with our original dataframe, `volume`, we will use `pd.merge`"
   ]
  },
  {
   "cell_type": "code",
   "execution_count": 38,
   "metadata": {},
   "outputs": [
    {
     "data": {
      "text/html": [
       "<div>\n",
       "<style>\n",
       "    .dataframe thead tr:only-child th {\n",
       "        text-align: right;\n",
       "    }\n",
       "\n",
       "    .dataframe thead th {\n",
       "        text-align: left;\n",
       "    }\n",
       "\n",
       "    .dataframe tbody tr th {\n",
       "        vertical-align: top;\n",
       "    }\n",
       "</style>\n",
       "<table border=\"1\" class=\"dataframe\">\n",
       "  <thead>\n",
       "    <tr style=\"text-align: right;\">\n",
       "      <th></th>\n",
       "      <th>index</th>\n",
       "      <th>volField</th>\n",
       "      <th>volTitle</th>\n",
       "      <th>volID</th>\n",
       "      <th>volCoder</th>\n",
       "      <th>volWoS</th>\n",
       "      <th>volTop200Econ</th>\n",
       "      <th>volGScites</th>\n",
       "      <th>totalCites</th>\n",
       "      <th>replication</th>\n",
       "      <th>extension</th>\n",
       "      <th>either</th>\n",
       "    </tr>\n",
       "  </thead>\n",
       "  <tbody>\n",
       "    <tr>\n",
       "      <th>0</th>\n",
       "      <td>0</td>\n",
       "      <td>Applied (gen.)</td>\n",
       "      <td>A New Approach to Estimating the Production Function for Housing</td>\n",
       "      <td>37</td>\n",
       "      <td>5.0</td>\n",
       "      <td>13</td>\n",
       "      <td>11.0</td>\n",
       "      <td>74</td>\n",
       "      <td>98.0</td>\n",
       "      <td>0.0</td>\n",
       "      <td>1.0</td>\n",
       "      <td>1.0</td>\n",
       "    </tr>\n",
       "    <tr>\n",
       "      <th>1</th>\n",
       "      <td>1</td>\n",
       "      <td>Applied (gen.)</td>\n",
       "      <td>A Theory of Optimal Random Crackdowns</td>\n",
       "      <td>44</td>\n",
       "      <td>5.0</td>\n",
       "      <td>4</td>\n",
       "      <td>2.0</td>\n",
       "      <td>41</td>\n",
       "      <td>47.0</td>\n",
       "      <td>0.0</td>\n",
       "      <td>0.0</td>\n",
       "      <td>0.0</td>\n",
       "    </tr>\n",
       "    <tr>\n",
       "      <th>2</th>\n",
       "      <td>2</td>\n",
       "      <td>Applied (gen.)</td>\n",
       "      <td>Doing Well by Doing Good? Green Office Buildings</td>\n",
       "      <td>101</td>\n",
       "      <td>4.0</td>\n",
       "      <td>69</td>\n",
       "      <td>18.0</td>\n",
       "      <td>681</td>\n",
       "      <td>768.0</td>\n",
       "      <td>5.0</td>\n",
       "      <td>2.0</td>\n",
       "      <td>7.0</td>\n",
       "    </tr>\n",
       "    <tr>\n",
       "      <th>3</th>\n",
       "      <td>3</td>\n",
       "      <td>Applied (gen.)</td>\n",
       "      <td>Emissions Trading, Electricity Restructuring, and Investment in Pollution Abatement</td>\n",
       "      <td>35</td>\n",
       "      <td>3.0</td>\n",
       "      <td>29</td>\n",
       "      <td>16.0</td>\n",
       "      <td>113</td>\n",
       "      <td>158.0</td>\n",
       "      <td>1.0</td>\n",
       "      <td>0.0</td>\n",
       "      <td>1.0</td>\n",
       "    </tr>\n",
       "    <tr>\n",
       "      <th>4</th>\n",
       "      <td>4</td>\n",
       "      <td>Applied (gen.)</td>\n",
       "      <td>Is a Donor in Hand Better than Two in the Bush? Evidence from a Natural Field Experiment</td>\n",
       "      <td>39</td>\n",
       "      <td>4.0</td>\n",
       "      <td>18</td>\n",
       "      <td>10.0</td>\n",
       "      <td>72</td>\n",
       "      <td>100.0</td>\n",
       "      <td>0.0</td>\n",
       "      <td>0.0</td>\n",
       "      <td>0.0</td>\n",
       "    </tr>\n",
       "  </tbody>\n",
       "</table>\n",
       "</div>"
      ],
      "text/plain": [
       "   index        volField  \\\n",
       "0      0  Applied (gen.)   \n",
       "1      1  Applied (gen.)   \n",
       "2      2  Applied (gen.)   \n",
       "3      3  Applied (gen.)   \n",
       "4      4  Applied (gen.)   \n",
       "\n",
       "                                                                                   volTitle  \\\n",
       "0                          A New Approach to Estimating the Production Function for Housing   \n",
       "1                                                     A Theory of Optimal Random Crackdowns   \n",
       "2                                          Doing Well by Doing Good? Green Office Buildings   \n",
       "3       Emissions Trading, Electricity Restructuring, and Investment in Pollution Abatement   \n",
       "4  Is a Donor in Hand Better than Two in the Bush? Evidence from a Natural Field Experiment   \n",
       "\n",
       "   volID  volCoder  volWoS  volTop200Econ  volGScites  totalCites  \\\n",
       "0     37       5.0      13           11.0          74        98.0   \n",
       "1     44       5.0       4            2.0          41        47.0   \n",
       "2    101       4.0      69           18.0         681       768.0   \n",
       "3     35       3.0      29           16.0         113       158.0   \n",
       "4     39       4.0      18           10.0          72       100.0   \n",
       "\n",
       "   replication  extension  either  \n",
       "0          0.0        1.0     1.0  \n",
       "1          0.0        0.0     0.0  \n",
       "2          5.0        2.0     7.0  \n",
       "3          1.0        0.0     1.0  \n",
       "4          0.0        0.0     0.0  "
      ]
     },
     "execution_count": 38,
     "metadata": {},
     "output_type": "execute_result"
    }
   ],
   "source": [
    "merged = pd.merge(volume, volumes_cites, how='left', left_on='volID', right_index=True)\n",
    "merged.head()"
   ]
  },
  {
   "cell_type": "markdown",
   "metadata": {},
   "source": [
    "We have specified a 'left' merged, meaning we keep all rows from the left dataset (`volume`) and merge rows from the right dataset (`volume_cites`) where possible"
   ]
  },
  {
   "cell_type": "code",
   "execution_count": 39,
   "metadata": {},
   "outputs": [
    {
     "data": {
      "image/png": "./venn_diag.png",
      "text/plain": [
       "<IPython.core.display.Image object>"
      ]
     },
     "execution_count": 39,
     "metadata": {},
     "output_type": "execute_result"
    }
   ],
   "source": [
    "Image('./venn_diag.png')"
   ]
  },
  {
   "cell_type": "markdown",
   "metadata": {},
   "source": [
    "Note that we have some `NaN` values in our rows - these are papers in the sample which presumably had zero citations"
   ]
  },
  {
   "cell_type": "code",
   "execution_count": 40,
   "metadata": {},
   "outputs": [
    {
     "data": {
      "text/html": [
       "<div>\n",
       "<style>\n",
       "    .dataframe thead tr:only-child th {\n",
       "        text-align: right;\n",
       "    }\n",
       "\n",
       "    .dataframe thead th {\n",
       "        text-align: left;\n",
       "    }\n",
       "\n",
       "    .dataframe tbody tr th {\n",
       "        vertical-align: top;\n",
       "    }\n",
       "</style>\n",
       "<table border=\"1\" class=\"dataframe\">\n",
       "  <thead>\n",
       "    <tr style=\"text-align: right;\">\n",
       "      <th></th>\n",
       "      <th>index</th>\n",
       "      <th>volField</th>\n",
       "      <th>volTitle</th>\n",
       "      <th>volID</th>\n",
       "      <th>volCoder</th>\n",
       "      <th>volWoS</th>\n",
       "      <th>volTop200Econ</th>\n",
       "      <th>volGScites</th>\n",
       "      <th>totalCites</th>\n",
       "      <th>replication</th>\n",
       "      <th>extension</th>\n",
       "      <th>either</th>\n",
       "    </tr>\n",
       "  </thead>\n",
       "  <tbody>\n",
       "    <tr>\n",
       "      <th>36</th>\n",
       "      <td>36</td>\n",
       "      <td>Behavioral/Exp.</td>\n",
       "      <td>Preemption Games: Theory and Experiment</td>\n",
       "      <td>72</td>\n",
       "      <td>1.0</td>\n",
       "      <td>1</td>\n",
       "      <td>0.0</td>\n",
       "      <td>18</td>\n",
       "      <td>19.0</td>\n",
       "      <td>NaN</td>\n",
       "      <td>NaN</td>\n",
       "      <td>NaN</td>\n",
       "    </tr>\n",
       "    <tr>\n",
       "      <th>64</th>\n",
       "      <td>64</td>\n",
       "      <td>Macro/Int/Trade</td>\n",
       "      <td>Technology Adoption with Exit in Imperfectly Informed Equity Markets</td>\n",
       "      <td>38</td>\n",
       "      <td>2.0</td>\n",
       "      <td>1</td>\n",
       "      <td>0.0</td>\n",
       "      <td>7</td>\n",
       "      <td>8.0</td>\n",
       "      <td>NaN</td>\n",
       "      <td>NaN</td>\n",
       "      <td>NaN</td>\n",
       "    </tr>\n",
       "  </tbody>\n",
       "</table>\n",
       "</div>"
      ],
      "text/plain": [
       "    index         volField  \\\n",
       "36     36  Behavioral/Exp.   \n",
       "64     64  Macro/Int/Trade   \n",
       "\n",
       "                                                                volTitle  \\\n",
       "36                               Preemption Games: Theory and Experiment   \n",
       "64  Technology Adoption with Exit in Imperfectly Informed Equity Markets   \n",
       "\n",
       "    volID  volCoder  volWoS  volTop200Econ  volGScites  totalCites  \\\n",
       "36     72       1.0       1            0.0          18        19.0   \n",
       "64     38       2.0       1            0.0           7         8.0   \n",
       "\n",
       "    replication  extension  either  \n",
       "36          NaN        NaN     NaN  \n",
       "64          NaN        NaN     NaN  "
      ]
     },
     "execution_count": 40,
     "metadata": {},
     "output_type": "execute_result"
    }
   ],
   "source": [
    "merged[merged['either'].isnull()]"
   ]
  },
  {
   "cell_type": "markdown",
   "metadata": {},
   "source": [
    "We will fill these is as 0"
   ]
  },
  {
   "cell_type": "code",
   "execution_count": 41,
   "metadata": {},
   "outputs": [
    {
     "data": {
      "text/html": [
       "<div>\n",
       "<style>\n",
       "    .dataframe thead tr:only-child th {\n",
       "        text-align: right;\n",
       "    }\n",
       "\n",
       "    .dataframe thead th {\n",
       "        text-align: left;\n",
       "    }\n",
       "\n",
       "    .dataframe tbody tr th {\n",
       "        vertical-align: top;\n",
       "    }\n",
       "</style>\n",
       "<table border=\"1\" class=\"dataframe\">\n",
       "  <thead>\n",
       "    <tr style=\"text-align: right;\">\n",
       "      <th></th>\n",
       "      <th>index</th>\n",
       "      <th>volField</th>\n",
       "      <th>volTitle</th>\n",
       "      <th>volID</th>\n",
       "      <th>volCoder</th>\n",
       "      <th>volWoS</th>\n",
       "      <th>volTop200Econ</th>\n",
       "      <th>volGScites</th>\n",
       "      <th>totalCites</th>\n",
       "      <th>replication</th>\n",
       "      <th>extension</th>\n",
       "      <th>either</th>\n",
       "    </tr>\n",
       "  </thead>\n",
       "  <tbody>\n",
       "    <tr>\n",
       "      <th>36</th>\n",
       "      <td>36</td>\n",
       "      <td>Behavioral/Exp.</td>\n",
       "      <td>Preemption Games: Theory and Experiment</td>\n",
       "      <td>72</td>\n",
       "      <td>1.0</td>\n",
       "      <td>1</td>\n",
       "      <td>0.0</td>\n",
       "      <td>18</td>\n",
       "      <td>19.0</td>\n",
       "      <td>0.0</td>\n",
       "      <td>0.0</td>\n",
       "      <td>0.0</td>\n",
       "    </tr>\n",
       "  </tbody>\n",
       "</table>\n",
       "</div>"
      ],
      "text/plain": [
       "    index         volField                                 volTitle  volID  \\\n",
       "36     36  Behavioral/Exp.  Preemption Games: Theory and Experiment     72   \n",
       "\n",
       "    volCoder  volWoS  volTop200Econ  volGScites  totalCites  replication  \\\n",
       "36       1.0       1            0.0          18        19.0          0.0   \n",
       "\n",
       "    extension  either  \n",
       "36        0.0     0.0  "
      ]
     },
     "execution_count": 41,
     "metadata": {},
     "output_type": "execute_result"
    }
   ],
   "source": [
    "merged[['replication', 'extension', 'either']] = merged[['replication', 'extension', 'either']].fillna(0)\n",
    "merged[merged['volTitle'] == 'Preemption Games: Theory and Experiment']"
   ]
  },
  {
   "cell_type": "markdown",
   "metadata": {},
   "source": [
    "# Plotting with Matplotlib\n",
    "\n",
    "`matplotlib` is a 2D plotting library that was initially based on MATLAB plotting\n",
    "\n",
    "There are two \"interfaces\" to `matplotlib` - a MATLAB-style interface and an object-orientated interface"
   ]
  },
  {
   "cell_type": "code",
   "execution_count": 42,
   "metadata": {
    "collapsed": true
   },
   "outputs": [],
   "source": [
    "# Import the package\n",
    "\n",
    "import matplotlib.pyplot as plt"
   ]
  },
  {
   "cell_type": "markdown",
   "metadata": {},
   "source": [
    "## Basic plotting\n",
    "\n",
    "`pandas` dataframes and series have a few built-in plotting methods, such as `.plot()`, to easily return a `matplotlib` object with your data"
   ]
  },
  {
   "cell_type": "code",
   "execution_count": 43,
   "metadata": {},
   "outputs": [
    {
     "data": {
      "image/png": "[encoded data removed]",
      "text/plain": [
       "<matplotlib.figure.Figure at 0x1139d8470>"
      ]
     },
     "metadata": {},
     "output_type": "display_data"
    }
   ],
   "source": [
    "merged.plot(y='replication', figsize=(8, 5), color='red', linestyle='--')\n",
    "plt.show()"
   ]
  },
  {
   "cell_type": "code",
   "execution_count": 44,
   "metadata": {},
   "outputs": [
    {
     "data": {
      "image/png": "[encoded data removed]",
      "text/plain": [
       "<matplotlib.figure.Figure at 0x116db8f98>"
      ]
     },
     "metadata": {},
     "output_type": "display_data"
    }
   ],
   "source": [
    "merged.plot(y='replication', figsize=(12, 8), kind='hist')\n",
    "plt.title('Replications across AER vol 100 papers')\n",
    "plt.show()"
   ]
  },
  {
   "cell_type": "code",
   "execution_count": 45,
   "metadata": {},
   "outputs": [
    {
     "data": {
      "image/png": "[encoded data removed]",
      "text/plain": [
       "<matplotlib.figure.Figure at 0x116f0bd68>"
      ]
     },
     "metadata": {},
     "output_type": "display_data"
    }
   ],
   "source": [
    "merged.plot(x='volWoS', y='either', kind='scatter', marker='x', c='green', figsize=(10, 8))\n",
    "plt.xlabel('Citations')\n",
    "plt.ylabel('Replicated or extended')\n",
    "plt.grid()\n",
    "plt.show()"
   ]
  },
  {
   "cell_type": "code",
   "execution_count": 46,
   "metadata": {
    "scrolled": false
   },
   "outputs": [
    {
     "data": {
      "image/png": "[encoded data removed]",
      "text/plain": [
       "<matplotlib.figure.Figure at 0x1172ec320>"
      ]
     },
     "metadata": {},
     "output_type": "display_data"
    }
   ],
   "source": [
    "plt.figure(figsize=(10, 8))\n",
    "plt.scatter(x=merged['volWoS'], y=merged['replication'], c='darkred' ,alpha=0.5)\n",
    "plt.scatter(x=merged['volWoS'], y=merged['extension'], c='blue', alpha=0.5)\n",
    "plt.xlabel('Citations')\n",
    "plt.ylabel('Replicated or extended')\n",
    "plt.legend()\n",
    "plt.show()"
   ]
  },
  {
   "cell_type": "markdown",
   "metadata": {},
   "source": [
    "### Exercises\n",
    "\n",
    "#### Try to recreate this plot. Hints:\n",
    "* Use `GroupBy`\n",
    "* Use `plt.xticks(rotation=35)` to adjust the tick labels"
   ]
  },
  {
   "cell_type": "code",
   "execution_count": 47,
   "metadata": {},
   "outputs": [
    {
     "data": {
      "image/png": "./plot_exer1.png",
      "text/plain": [
       "<IPython.core.display.Image object>"
      ]
     },
     "execution_count": 47,
     "metadata": {},
     "output_type": "execute_result"
    }
   ],
   "source": [
    "Image('./plot_exer1.png')"
   ]
  },
  {
   "cell_type": "code",
   "execution_count": null,
   "metadata": {
    "collapsed": true
   },
   "outputs": [],
   "source": []
  },
  {
   "cell_type": "markdown",
   "metadata": {},
   "source": [
    "<button data-toggle=\"collapse\" data-target=\"#sol10\" class='btn btn-primary'>Solution</button>\n",
    "<div id=\"sol10\" class=\"collapse\">\n",
    "```python\n",
    "to_plot = merged[['volField', 'either']].groupby('volField').mean()\n",
    "to_plot.sort_values(by='either').plot(kind='bar', color='purple', figsize=(10, 6))\n",
    "plt.title('Average number of replications')\n",
    "plt.xlabel('Field')\n",
    "plt.xticks(rotation=35)\n",
    "plt.show()\n",
    "```"
   ]
  },
  {
   "cell_type": "markdown",
   "metadata": {},
   "source": [
    "## Object-orientated plotting\n",
    "\n",
    "* `matplotlib`'s OOP interface allows greater flexibility for plotting - recommended for creating more complicated plots\n",
    "* We will be working with two objects - `Figure` and `Axes`"
   ]
  },
  {
   "cell_type": "code",
   "execution_count": 48,
   "metadata": {
    "collapsed": true
   },
   "outputs": [],
   "source": [
    "fig, ax = plt.subplots(figsize=(10, 8))"
   ]
  },
  {
   "cell_type": "code",
   "execution_count": 49,
   "metadata": {},
   "outputs": [
    {
     "data": {
      "text/plain": [
       "matplotlib.figure.Figure"
      ]
     },
     "execution_count": 49,
     "metadata": {},
     "output_type": "execute_result"
    }
   ],
   "source": [
    "type(fig)"
   ]
  },
  {
   "cell_type": "code",
   "execution_count": 50,
   "metadata": {},
   "outputs": [
    {
     "data": {
      "text/plain": [
       "matplotlib.axes._subplots.AxesSubplot"
      ]
     },
     "execution_count": 50,
     "metadata": {},
     "output_type": "execute_result"
    }
   ],
   "source": [
    "type(ax)"
   ]
  },
  {
   "cell_type": "code",
   "execution_count": 51,
   "metadata": {},
   "outputs": [
    {
     "data": {
      "image/png": "[encoded data removed]",
      "text/plain": [
       "<matplotlib.figure.Figure at 0x112f723c8>"
      ]
     },
     "metadata": {},
     "output_type": "display_data"
    }
   ],
   "source": [
    "fig\n",
    "plt.show()"
   ]
  },
  {
   "cell_type": "code",
   "execution_count": 52,
   "metadata": {},
   "outputs": [
    {
     "data": {
      "image/png": "[encoded data removed]",
      "text/plain": [
       "<matplotlib.figure.Figure at 0x1173c2a20>"
      ]
     },
     "metadata": {},
     "output_type": "display_data"
    }
   ],
   "source": [
    "fig, ax = plt.subplots(figsize=(10, 8))\n",
    "merged.plot(x='volWoS', y='replication', kind='scatter', c='green', ax=ax)\n",
    "merged.plot(x='volWoS', y='extension', kind='scatter', c='blue', ax=ax)\n",
    "plt.xlabel('Citations')\n",
    "plt.ylabel('Replicated or extended')\n",
    "plt.grid()\n",
    "plt.show()"
   ]
  },
  {
   "cell_type": "markdown",
   "metadata": {},
   "source": [
    "We can use the OOP interface to create multiple plots in one figure"
   ]
  },
  {
   "cell_type": "code",
   "execution_count": 53,
   "metadata": {
    "collapsed": true
   },
   "outputs": [],
   "source": [
    "fig, axes = plt.subplots(nrows=1, ncols=2, figsize=(15, 5))"
   ]
  },
  {
   "cell_type": "code",
   "execution_count": 54,
   "metadata": {},
   "outputs": [
    {
     "data": {
      "text/plain": [
       "array([<matplotlib.axes._subplots.AxesSubplot object at 0x1176e3898>,\n",
       "       <matplotlib.axes._subplots.AxesSubplot object at 0x1178cd978>], dtype=object)"
      ]
     },
     "execution_count": 54,
     "metadata": {},
     "output_type": "execute_result"
    }
   ],
   "source": [
    "axes"
   ]
  },
  {
   "cell_type": "code",
   "execution_count": 55,
   "metadata": {},
   "outputs": [
    {
     "data": {
      "image/png": "[encoded data removed]",
      "text/plain": [
       "<matplotlib.figure.Figure at 0x1171342b0>"
      ]
     },
     "execution_count": 55,
     "metadata": {},
     "output_type": "execute_result"
    }
   ],
   "source": [
    "fig"
   ]
  },
  {
   "cell_type": "code",
   "execution_count": 56,
   "metadata": {},
   "outputs": [
    {
     "data": {
      "image/png": "[encoded data removed]",
      "text/plain": [
       "<matplotlib.figure.Figure at 0x1171342b0>"
      ]
     },
     "metadata": {},
     "output_type": "display_data"
    }
   ],
   "source": [
    "merged.plot(x='volWoS', y='replication', kind='scatter', c='green', ax=axes[0])\n",
    "merged.plot(x='volWoS', y='extension', kind='scatter', c='blue', ax=axes[1])\n",
    "axes[0].set_title('Replications vs. citations')\n",
    "axes[1].set_title('Extensions vs. citations')\n",
    "fig\n",
    "plt.show()"
   ]
  },
  {
   "cell_type": "code",
   "execution_count": 57,
   "metadata": {},
   "outputs": [
    {
     "data": {
      "image/png": "[encoded data removed]",
      "text/plain": [
       "<matplotlib.figure.Figure at 0x117969e48>"
      ]
     },
     "metadata": {},
     "output_type": "display_data"
    }
   ],
   "source": [
    "fig, axes = plt.subplots(nrows=1, ncols=2, figsize=(15, 5))\n",
    "\n",
    "merged.plot(x='volWoS', y='replication', kind='scatter', c='green', ax=axes[0])\n",
    "merged.plot(x='volWoS', y='extension', kind='scatter', c='blue', ax=axes[1])\n",
    "axes[0].set_title('Replications vs. citations')\n",
    "axes[1].set_title('Extensions vs. citations')\n",
    "\n",
    "for ax in axes:\n",
    "    ax.grid()\n",
    "    ax.set(xlim=0, ylim=0, xlabel='Citations', ylabel='Count')\n",
    "    \n",
    "fig\n",
    "plt.show()"
   ]
  },
  {
   "cell_type": "markdown",
   "metadata": {},
   "source": [
    "### Exercise\n",
    "\n",
    "#### Try to recreate the figure below that contains three plots for each different citation measure, with replications & extensions vs. citations"
   ]
  },
  {
   "cell_type": "code",
   "execution_count": 58,
   "metadata": {},
   "outputs": [
    {
     "data": {
      "image/png": "./plot_exer2.png",
      "text/plain": [
       "<IPython.core.display.Image object>"
      ]
     },
     "execution_count": 58,
     "metadata": {},
     "output_type": "execute_result"
    }
   ],
   "source": [
    "Image('./plot_exer2.png')"
   ]
  },
  {
   "cell_type": "code",
   "execution_count": null,
   "metadata": {
    "collapsed": true
   },
   "outputs": [],
   "source": []
  },
  {
   "cell_type": "markdown",
   "metadata": {},
   "source": [
    "<button data-toggle=\"collapse\" data-target=\"#sol11\" class='btn btn-primary'>Solution</button>\n",
    "<div id=\"sol11\" class=\"collapse\">\n",
    "```python\n",
    "fig, axes = plt.subplots(nrows=1, ncols=3, figsize=(18, 5), sharey=True)\n",
    "\n",
    "to_plot = ['Macro/Int/Trade', 'Labor/IO', 'Behavioral/Exp.']\n",
    "colors = ['red', 'purple', 'blue']\n",
    "\n",
    "for ax, plot, color in zip(axes, to_plot, colors):\n",
    "    merged[merged['volField'] == plot].plot.scatter(x='volTop200Econ', y='either', s=45, ax=ax, color=color)\n",
    "    ax.set(xlim=0, ylim=0, xlabel='Citations', ylabel='Count', title=plot)\n",
    "    ax.grid()\n",
    "\n",
    "fig\n",
    "plt.show()\n",
    "```"
   ]
  },
  {
   "cell_type": "markdown",
   "metadata": {},
   "source": [
    "## Some examples using Seaborn"
   ]
  },
  {
   "cell_type": "code",
   "execution_count": 59,
   "metadata": {
    "collapsed": true
   },
   "outputs": [],
   "source": [
    "# Import the package\n",
    "\n",
    "import seaborn as sns"
   ]
  },
  {
   "cell_type": "code",
   "execution_count": 60,
   "metadata": {},
   "outputs": [
    {
     "data": {
      "image/png": "[encoded data removed]",
      "text/plain": [
       "<matplotlib.figure.Figure at 0x119800f98>"
      ]
     },
     "metadata": {},
     "output_type": "display_data"
    }
   ],
   "source": [
    "sns.boxplot(x='volField', y='either', data=merged)\n",
    "plt.show()"
   ]
  },
  {
   "cell_type": "code",
   "execution_count": 61,
   "metadata": {},
   "outputs": [
    {
     "data": {
      "image/png": "[encoded data removed]",
      "text/plain": [
       "<matplotlib.figure.Figure at 0x1199d3198>"
      ]
     },
     "metadata": {},
     "output_type": "display_data"
    }
   ],
   "source": [
    "fig, axes = plt.subplots(nrows=1, ncols=3, figsize=(18, 5), sharey=True)\n",
    "\n",
    "to_plot = ['Macro/Int/Trade', 'Labor/IO', 'Behavioral/Exp.']\n",
    "colors = ['red', 'purple', 'blue']\n",
    "\n",
    "for ax, plot, color in zip(axes, to_plot, colors):\n",
    "    sns.kdeplot(merged[merged['volField'] == plot].loc[:, 'volWoS'], ax=ax, color=color, shade=True)\n",
    "    ax.set(xlim=0, ylim=0, xlabel='Citations', title=plot)\n",
    "\n",
    "fig\n",
    "plt.show()"
   ]
  },
  {
   "cell_type": "code",
   "execution_count": 62,
   "metadata": {},
   "outputs": [
    {
     "data": {
      "image/png": "[encoded data removed]",
      "text/plain": [
       "<matplotlib.figure.Figure at 0x119ab8cc0>"
      ]
     },
     "metadata": {},
     "output_type": "display_data"
    }
   ],
   "source": [
    "merged['replicated'] = merged['replication'] > 0\n",
    "sns.kdeplot(merged[merged['replicated'] == True].loc[:, 'volWoS'], cumulative=True, bw=2)\n",
    "sns.kdeplot(merged[merged['replicated'] == False].loc[:, 'volWoS'], cumulative=True, linestyle='--', bw=2)\n",
    "plt.xlim(0, 200)\n",
    "plt.xlabel('Web of Science Citations')\n",
    "plt.ylabel('CDF')\n",
    "plt.legend(['One or more replications', 'No replications'])\n",
    "plt.show()"
   ]
  },
  {
   "cell_type": "code",
   "execution_count": 63,
   "metadata": {},
   "outputs": [
    {
     "data": {
      "image/png": "[encoded data removed]",
      "text/plain": [
       "<matplotlib.figure.Figure at 0x1199ad898>"
      ]
     },
     "metadata": {},
     "output_type": "display_data"
    }
   ],
   "source": [
    "sns.jointplot(x='volWoS', y='replication', data=merged, color='red')\n",
    "plt.show()"
   ]
  },
  {
   "cell_type": "code",
   "execution_count": null,
   "metadata": {
    "collapsed": true
   },
   "outputs": [],
   "source": []
  }
 ],
 "metadata": {
  "anaconda-cloud": {},
  "kernelspec": {
   "display_name": "Python [default]",
   "language": "python",
   "name": "python3"
  },
  "language_info": {
   "codemirror_mode": {
    "name": "ipython",
    "version": 3
   },
   "file_extension": ".py",
   "mimetype": "text/x-python",
   "name": "python",
   "nbconvert_exporter": "python",
   "pygments_lexer": "ipython3",
   "version": "3.6.1"
  },
  "toc": {
   "colors": {
    "hover_highlight": "#DAA520",
    "navigate_num": "#000000",
    "navigate_text": "#333333",
    "running_highlight": "#FF0000",
    "selected_highlight": "#FFD700",
    "sidebar_border": "#EEEEEE",
    "wrapper_background": "#FFFFFF"
   },
   "moveMenuLeft": true,
   "nav_menu": {
    "height": "30px",
    "width": "252px"
   },
   "navigate_menu": true,
   "number_sections": true,
   "sideBar": true,
   "threshold": 4,
   "toc_cell": false,
   "toc_section_display": "block",
   "toc_window_display": true,
   "widenNotebook": false
  },
  "varInspector": {
   "cols": {
    "lenName": 16,
    "lenType": 16,
    "lenVar": 40
   },
   "kernels_config": {
    "python": {
     "delete_cmd_postfix": "",
     "delete_cmd_prefix": "del ",
     "library": "var_list.py",
     "varRefreshCmd": "print(var_dic_list())"
    },
    "r": {
     "delete_cmd_postfix": ") ",
     "delete_cmd_prefix": "rm(",
     "library": "var_list.r",
     "varRefreshCmd": "cat(var_dic_list()) "
    }
   },
   "types_to_exclude": [
    "module",
    "function",
    "builtin_function_or_method",
    "instance",
    "_Feature"
   ],
   "window_display": false
  }
 },
 "nbformat": 4,
 "nbformat_minor": 2
}

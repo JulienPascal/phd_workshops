{
 "cells": [
  {
   "cell_type": "markdown",
   "metadata": {},
   "source": [
    "## Vectorization and JIT compilation in Julia"
   ]
  },
  {
   "cell_type": "markdown",
   "metadata": {},
   "source": [
    "Examples for the QuantEcon 2017 PhD workshops"
   ]
  },
  {
   "cell_type": "markdown",
   "metadata": {},
   "source": [
    "John Stachurski"
   ]
  },
  {
   "cell_type": "markdown",
   "metadata": {},
   "source": [
    "###  JIT compliation of loops"
   ]
  },
  {
   "cell_type": "code",
   "execution_count": 7,
   "metadata": {},
   "outputs": [
    {
     "data": {
      "text/plain": [
       "compute_max (generic function with 1 method)"
      ]
     },
     "execution_count": 7,
     "metadata": {},
     "output_type": "execute_result"
    }
   ],
   "source": [
    "function compute_max(n, grid)\n",
    "    m = -10.0\n",
    "    for x in grid\n",
    "        for y in grid\n",
    "            z = cos(x^2 + y^2) / (1 + x^2 + y^2)\n",
    "            if z > m\n",
    "                m = z\n",
    "            end\n",
    "        end\n",
    "    end\n",
    "    return m\n",
    "end"
   ]
  },
  {
   "cell_type": "code",
   "execution_count": 8,
   "metadata": {},
   "outputs": [
    {
     "data": {
      "text/plain": [
       "-3.0:0.0006000600060006001:3.0"
      ]
     },
     "execution_count": 8,
     "metadata": {},
     "output_type": "execute_result"
    }
   ],
   "source": [
    "n = 10_000\n",
    "grid = linspace(-3, 3, n)"
   ]
  },
  {
   "cell_type": "code",
   "execution_count": 9,
   "metadata": {},
   "outputs": [
    {
     "data": {
      "text/plain": [
       "0.999999819964011"
      ]
     },
     "execution_count": 9,
     "metadata": {},
     "output_type": "execute_result"
    }
   ],
   "source": [
    "compute_max(n, grid)"
   ]
  },
  {
   "cell_type": "code",
   "execution_count": 10,
   "metadata": {},
   "outputs": [
    {
     "name": "stdout",
     "output_type": "stream",
     "text": [
      "  1.647159 seconds (5 allocations: 176 bytes)\n"
     ]
    },
    {
     "data": {
      "text/plain": [
       "0.999999819964011"
      ]
     },
     "execution_count": 10,
     "metadata": {},
     "output_type": "execute_result"
    }
   ],
   "source": [
    "@time compute_max(n,  grid)"
   ]
  },
  {
   "cell_type": "markdown",
   "metadata": {
    "collapsed": true
   },
   "source": [
    "### Other Cleverness"
   ]
  },
  {
   "cell_type": "code",
   "execution_count": 24,
   "metadata": {},
   "outputs": [
    {
     "name": "stderr",
     "output_type": "stream",
     "text": [
      "\u001b[1m\u001b[36mINFO: \u001b[39m\u001b[22m\u001b[36mPrecompiling module JLD.\n",
      "\u001b[39mWARNING: Compat.UTF8String is deprecated, use String instead.\n",
      "  likely near /home/john/.julia/v0.6/Blosc/src/Blosc.jl:235\n",
      "WARNING: Compat.UTF8String is deprecated, use String instead.\n",
      "  likely near /home/john/.julia/v0.6/Blosc/src/Blosc.jl:235\n",
      "WARNING: Compat.UTF8String is deprecated, use String instead.\n",
      "  likely near /home/john/.julia/v0.6/Blosc/src/Blosc.jl:235\n",
      "WARNING: Compat.UTF8String is deprecated, use String instead.\n",
      "  likely near /home/john/.julia/v0.6/JLD/src/JLD.jl:952\n"
     ]
    }
   ],
   "source": [
    "using BenchmarkTools"
   ]
  },
  {
   "cell_type": "code",
   "execution_count": 25,
   "metadata": {
    "collapsed": true
   },
   "outputs": [],
   "source": [
    "x = randn(10_000_000);"
   ]
  },
  {
   "cell_type": "code",
   "execution_count": 26,
   "metadata": {},
   "outputs": [
    {
     "data": {
      "text/plain": [
       "BenchmarkTools.Trial: \n",
       "  memory estimate:  76.30 MiB\n",
       "  allocs estimate:  26\n",
       "  --------------\n",
       "  minimum time:     26.558 ms (1.90% GC)\n",
       "  median time:      26.847 ms (1.80% GC)\n",
       "  mean time:        27.372 ms (2.73% GC)\n",
       "  maximum time:     77.923 ms (59.28% GC)\n",
       "  --------------\n",
       "  samples:          183\n",
       "  evals/sample:     1"
      ]
     },
     "execution_count": 26,
     "metadata": {},
     "output_type": "execute_result"
    }
   ],
   "source": [
    "@benchmark maximum(abs.(x))"
   ]
  },
  {
   "cell_type": "code",
   "execution_count": 27,
   "metadata": {},
   "outputs": [
    {
     "data": {
      "text/plain": [
       "BenchmarkTools.Trial: \n",
       "  memory estimate:  16 bytes\n",
       "  allocs estimate:  1\n",
       "  --------------\n",
       "  minimum time:     17.633 ms (0.00% GC)\n",
       "  median time:      17.954 ms (0.00% GC)\n",
       "  mean time:        17.979 ms (0.00% GC)\n",
       "  maximum time:     22.605 ms (0.00% GC)\n",
       "  --------------\n",
       "  samples:          279\n",
       "  evals/sample:     1"
      ]
     },
     "execution_count": 27,
     "metadata": {},
     "output_type": "execute_result"
    }
   ],
   "source": [
    "@benchmark maximum(abs, x)"
   ]
  },
  {
   "cell_type": "code",
   "execution_count": null,
   "metadata": {
    "collapsed": true
   },
   "outputs": [],
   "source": []
  }
 ],
 "metadata": {
  "kernelspec": {
   "display_name": "Julia 0.6.0",
   "language": "julia",
   "name": "julia-0.6"
  },
  "language_info": {
   "file_extension": ".jl",
   "mimetype": "application/julia",
   "name": "julia",
   "version": "0.6.0"
  }
 },
 "nbformat": 4,
 "nbformat_minor": 2
}

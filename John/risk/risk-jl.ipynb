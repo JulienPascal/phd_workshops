{
 "cells": [
  {
   "cell_type": "markdown",
   "metadata": {},
   "source": [
    "## Risk probabilities -- Julia version"
   ]
  },
  {
   "cell_type": "markdown",
   "metadata": {},
   "source": [
    "Calculate outcome probabilities when \n",
    "\n",
    "* red rolls 3 \n",
    "* blue rolls 2\n",
    "* lowest red is discarded, remaining dice are ordered\n",
    "    * e.g., $R1$ is largest red, $B2$ is second largest blue\n",
    "* if $R1 > B1$ and $R2 > B2$ then red wins two\n",
    "* if $R1 \\leq B1$ and $R2 \\leq B2$ then blue wins two\n",
    "* else, one each\n",
    "\n",
    "\n",
    "Some possibly useful hints:"
   ]
  },
  {
   "cell_type": "code",
   "execution_count": 1,
   "metadata": {},
   "outputs": [
    {
     "data": {
      "text/plain": [
       "5-element Array{Int64,1}:\n",
       " 10\n",
       "  1\n",
       " 10\n",
       " 10\n",
       "  5"
      ]
     },
     "execution_count": 1,
     "metadata": {},
     "output_type": "execute_result"
    }
   ],
   "source": [
    "reds = rand(1:10, 5)"
   ]
  },
  {
   "cell_type": "code",
   "execution_count": 2,
   "metadata": {},
   "outputs": [
    {
     "data": {
      "text/plain": [
       "5-element Array{Int64,1}:\n",
       "  1\n",
       "  5\n",
       " 10\n",
       " 10\n",
       " 10"
      ]
     },
     "execution_count": 2,
     "metadata": {},
     "output_type": "execute_result"
    }
   ],
   "source": [
    "sort!(reds)"
   ]
  },
  {
   "cell_type": "markdown",
   "metadata": {},
   "source": [
    "See [the cheatsheets](https://cheatsheets.quantecon.org/) for syntax!"
   ]
  },
  {
   "cell_type": "markdown",
   "metadata": {},
   "source": [
    "Now put your solution code inside this loop"
   ]
  },
  {
   "cell_type": "code",
   "execution_count": 3,
   "metadata": {},
   "outputs": [],
   "source": [
    "sim_length=1_000_000\n",
    "\n",
    "# Set up counters to record outcomes of each round\n",
    "red_wins_2 = 0\n",
    "one_each = 0\n",
    "blue_wins_2 = 0\n",
    "\n",
    "for s in 1:sim_length\n",
    "\n",
    "# Generate three draws of red dice, two of blue\n",
    "\n",
    "# Discard lowest red\n",
    "    \n",
    "# Match up pairs and observe outcomes\n",
    "    \n",
    "# Increment relevant counter\n",
    "\n",
    "end\n",
    "\n",
    "# Divide counters by sim_length to get probabilities"
   ]
  },
  {
   "cell_type": "markdown",
   "metadata": {},
   "source": [
    "### Solution"
   ]
  },
  {
   "cell_type": "code",
   "execution_count": 4,
   "metadata": {},
   "outputs": [
    {
     "name": "stdout",
     "output_type": "stream",
     "text": [
      "solution below\n",
      "solution below\n",
      "solution below\n",
      "solution below\n",
      "solution below\n",
      "solution below\n",
      "solution below\n",
      "solution below\n",
      "solution below\n",
      "solution below\n",
      "solution below\n",
      "solution below\n",
      "solution below\n",
      "solution below\n",
      "solution below\n",
      "solution below\n",
      "solution below\n",
      "solution below\n",
      "solution below\n",
      "solution below\n"
     ]
    }
   ],
   "source": [
    "for i in 1:20\n",
    "    println(\"solution below\")\n",
    "end"
   ]
  },
  {
   "cell_type": "code",
   "execution_count": 5,
   "metadata": {},
   "outputs": [
    {
     "data": {
      "text/plain": [
       "3-element Array{Float64,1}:\n",
       " 0.371142\n",
       " 0.29296 \n",
       " 0.335898"
      ]
     },
     "execution_count": 5,
     "metadata": {},
     "output_type": "execute_result"
    }
   ],
   "source": [
    "sim_length=1_000_000\n",
    "\n",
    "red_wins_2 = 0\n",
    "one_each = 0\n",
    "blue_wins_2 = 0\n",
    "\n",
    "for s in 1:sim_length\n",
    "\n",
    "    reds = rand(1:6, 3)\n",
    "    blues = rand(1:6, 2)\n",
    "\n",
    "    for x in (reds, blues)\n",
    "        sort!(x)\n",
    "    end\n",
    "\n",
    "    red1, red2 = reds[3], reds[2]\n",
    "    blue1, blue2 = blues[2], blues[1]\n",
    "\n",
    "    if red1 > blue1 && red2 > blue2\n",
    "        red_wins_2 += 1\n",
    "    elseif blue1 >= red1 && blue2 >= red2\n",
    "        blue_wins_2 += 1\n",
    "    else\n",
    "        one_each += 1\n",
    "    end\n",
    "\n",
    "end\n",
    "\n",
    "probs = [x / sim_length for x in (red_wins_2, blue_wins_2, one_each)]"
   ]
  },
  {
   "cell_type": "code",
   "execution_count": 6,
   "metadata": {},
   "outputs": [
    {
     "name": "stdout",
     "output_type": "stream",
     "text": [
      "Probability of one each is 0.335898\n",
      "Probability of blue wins 2 is 0.29296\n",
      "Probability of red wins 2 is 0.371142\n"
     ]
    }
   ],
   "source": [
    "out = Dict(zip((\"red wins 2\", \"blue wins 2\", \"one each\"), probs))\n",
    "for (key, val) in out\n",
    "    println(\"Probability of $key is $val\")\n",
    "end"
   ]
  },
  {
   "cell_type": "markdown",
   "metadata": {},
   "source": [
    "We can wrap this code in a function, which makes it easier to call / time"
   ]
  },
  {
   "cell_type": "code",
   "execution_count": 7,
   "metadata": {},
   "outputs": [
    {
     "data": {
      "text/plain": [
       "risk_probabilities (generic function with 2 methods)"
      ]
     },
     "execution_count": 7,
     "metadata": {},
     "output_type": "execute_result"
    }
   ],
   "source": [
    "function risk_probabilities(sim_length=1_000_000)\n",
    "\n",
    "    red_wins_2 = 0\n",
    "    one_each = 0\n",
    "    blue_wins_2 = 0\n",
    "\n",
    "    for s in 1:sim_length\n",
    "\n",
    "        reds = rand(1:6, 3)\n",
    "        blues = rand(1:6, 2)\n",
    "        \n",
    "        for x in (reds, blues)\n",
    "            sort!(x)\n",
    "        end\n",
    "\n",
    "        red1, red2 = reds[3], reds[2]\n",
    "        blue1, blue2 = blues[2], blues[1]\n",
    "\n",
    "        if red1 > blue1 && red2 > blue2\n",
    "            red_wins_2 += 1\n",
    "        elseif blue1 >= red1 && blue2 >= red2\n",
    "            blue_wins_2 += 1\n",
    "        else\n",
    "            one_each += 1\n",
    "        end\n",
    "\n",
    "    end\n",
    "\n",
    "    probs = [x / sim_length for x in (red_wins_2, blue_wins_2, one_each)]\n",
    "    return probs\n",
    "end"
   ]
  },
  {
   "cell_type": "code",
   "execution_count": 8,
   "metadata": {},
   "outputs": [
    {
     "data": {
      "text/plain": [
       "3-element Array{Float64,1}:\n",
       " 0.372081\n",
       " 0.292316\n",
       " 0.335603"
      ]
     },
     "execution_count": 8,
     "metadata": {},
     "output_type": "execute_result"
    }
   ],
   "source": [
    "probs = risk_probabilities()"
   ]
  },
  {
   "cell_type": "markdown",
   "metadata": {},
   "source": [
    "Let's see how long it takes:"
   ]
  },
  {
   "cell_type": "code",
   "execution_count": 9,
   "metadata": {},
   "outputs": [
    {
     "name": "stdout",
     "output_type": "stream",
     "text": [
      "  0.291687 seconds (3.00 M allocations: 228.888 MiB, 6.54% gc time)\n"
     ]
    },
    {
     "data": {
      "text/plain": [
       "3-element Array{Float64,1}:\n",
       " 0.370669\n",
       " 0.293193\n",
       " 0.336138"
      ]
     },
     "execution_count": 9,
     "metadata": {},
     "output_type": "execute_result"
    }
   ],
   "source": [
    "@time risk_probabilities()"
   ]
  },
  {
   "cell_type": "markdown",
   "metadata": {},
   "source": [
    "This is pretty quick"
   ]
  },
  {
   "cell_type": "code",
   "execution_count": null,
   "metadata": {
    "collapsed": true
   },
   "outputs": [],
   "source": []
  }
 ],
 "metadata": {
  "kernelspec": {
   "display_name": "Julia 0.6.0",
   "language": "julia",
   "name": "julia-0.6"
  },
  "language_info": {
   "file_extension": ".jl",
   "mimetype": "application/julia",
   "name": "julia",
   "version": "0.6.0"
  }
 },
 "nbformat": 4,
 "nbformat_minor": 2
}

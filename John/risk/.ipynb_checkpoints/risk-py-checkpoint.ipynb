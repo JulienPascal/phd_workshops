{
 "cells": [
  {
   "cell_type": "markdown",
   "metadata": {},
   "source": [
    "## Risk probabilities -- Python version"
   ]
  },
  {
   "cell_type": "markdown",
   "metadata": {},
   "source": [
    "This is the Python version, for those who are interested.\n",
    "\n",
    "I'm using JIT compilation to speed up the loop."
   ]
  },
  {
   "cell_type": "code",
   "execution_count": 1,
   "metadata": {
    "collapsed": true
   },
   "outputs": [],
   "source": [
    "import numpy as np\n",
    "from numba import jit"
   ]
  },
  {
   "cell_type": "code",
   "execution_count": 2,
   "metadata": {
    "collapsed": true
   },
   "outputs": [],
   "source": [
    "@jit\n",
    "def risk_probabilities(sim_length=1_000_000):\n",
    "\n",
    "    red_wins_2 = 0\n",
    "    one_each = 0\n",
    "    blue_wins_2 = 0\n",
    "\n",
    "\n",
    "    for s in range(sim_length):\n",
    "\n",
    "        reds = np.random.randint(1, 7, size=3)\n",
    "        blues = np.random.randint(1, 7, size=2)\n",
    "\n",
    "        for x in (reds, blues):\n",
    "            x.sort()\n",
    "\n",
    "        red1, red2 = reds[2], reds[1]\n",
    "        blue1, blue2 = blues[1], blues[0]\n",
    "\n",
    "        if red1 > blue1 and red2 > blue2:\n",
    "            red_wins_2 += 1\n",
    "        elif blue1 >= red1 and blue2 >= red2:\n",
    "            blue_wins_2 += 1\n",
    "        else:\n",
    "            one_each += 1\n",
    "\n",
    "\n",
    "    probs = (red_wins_2 / sim_length, \n",
    "             blue_wins_2 / sim_length, \n",
    "             one_each / sim_length)\n",
    "\n",
    "    return probs"
   ]
  },
  {
   "cell_type": "code",
   "execution_count": 3,
   "metadata": {},
   "outputs": [
    {
     "name": "stdout",
     "output_type": "stream",
     "text": [
      "Probability of red wins 2 is 0.371747\n",
      "Probability of blue wins 2 is 0.292483\n",
      "Probability of one each is 0.33577\n"
     ]
    }
   ],
   "source": [
    "probs = risk_probabilities()\n",
    "out = dict(zip((\"red wins 2\", \"blue wins 2\", \"one each\"), probs))\n",
    "\n",
    "for key, val in out.items():\n",
    "    print(f\"Probability of {key} is {val}\")\n",
    "    "
   ]
  },
  {
   "cell_type": "code",
   "execution_count": 4,
   "metadata": {},
   "outputs": [
    {
     "name": "stdout",
     "output_type": "stream",
     "text": [
      "1 loop, best of 3: 1.25 s per loop\n"
     ]
    }
   ],
   "source": [
    "%timeit risk_probabilities()"
   ]
  },
  {
   "cell_type": "code",
   "execution_count": null,
   "metadata": {
    "collapsed": true
   },
   "outputs": [],
   "source": []
  }
 ],
 "metadata": {
  "kernelspec": {
   "display_name": "Python 3",
   "language": "python",
   "name": "python3"
  },
  "language_info": {
   "codemirror_mode": {
    "name": "ipython",
    "version": 3
   },
   "file_extension": ".py",
   "mimetype": "text/x-python",
   "name": "python",
   "nbconvert_exporter": "python",
   "pygments_lexer": "ipython3",
   "version": "3.6.1"
  }
 },
 "nbformat": 4,
 "nbformat_minor": 2
}
